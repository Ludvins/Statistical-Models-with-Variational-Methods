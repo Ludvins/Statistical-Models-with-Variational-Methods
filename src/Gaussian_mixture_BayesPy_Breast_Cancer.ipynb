{
 "cells": [
  {
   "cell_type": "markdown",
   "metadata": {},
   "source": [
    "The aim of this notebook is to test `BayesPy` potential on modelling Gaussian mixtures. Two attepts are done, the first on the proper `Breast Cancer Wisconsin` dataset, and the second on a two-dimensional reduction using a variational auto-encoder.\n",
    "\n",
    "The mixture is componed by the same number of components as classes has the dataset. An optimal outcome would be that each class is modeled by one component. In order to test this, we are using each datapoint posterior probability of belonging to each component to compute a density function over each class and component. "
   ]
  },
  {
   "cell_type": "markdown",
   "metadata": {},
   "source": [
    "# Imports and dataset"
   ]
  },
  {
   "cell_type": "code",
   "execution_count": 1,
   "metadata": {},
   "outputs": [
    {
     "name": "stderr",
     "output_type": "stream",
     "text": [
      "Using TensorFlow backend.\n"
     ]
    }
   ],
   "source": [
    "# Imports\n",
    "from functions import *\n",
    "from models import *\n",
    "from bayespy import nodes\n",
    "from bayespy.inference import VB\n",
    "# seed\n",
    "set_seed(2020)"
   ]
  },
  {
   "cell_type": "markdown",
   "metadata": {},
   "source": [
    "Load and prepare Breast Cancer database"
   ]
  },
  {
   "cell_type": "code",
   "execution_count": 2,
   "metadata": {},
   "outputs": [],
   "source": [
    "# Column names\n",
    "col_names = [\"id\",\"diagnosis\",\"radius_mean\",\"texture_mean\",\"perimeter_mean\",\"area_mean\",\"smoothness_mean\",\"compactness_mean\",\"concavity_mean\",\"concave points_mean\",\"symmetry_mean\",\"fractal_dimension_mean\",\"radius_se\",\"texture_se\",\"perimeter_se\",\"area_se\",\"smoothness_se\",\"compactness_se\",\"concavity_se\",\"concave points_se\",\"symmetry_se\",\"fractal_dimension_se\",\"radius_worst\",\"texture_worst\",\"perimeter_worst\",\"area_worst\",\"smoothness_worst\",\"compactness_worst\",\"concavity_worst\",\"concave points_worst\",\"symmetry_worst\",\"fractal_dimension_worst\"]\n",
    "# Reading dataset\n",
    "dataset = pd.read_csv('../dataset/wdbc.data', header=None, names= col_names)\n",
    "X = dataset.drop(['id','diagnosis'], axis=1)\n",
    "y = dataset['diagnosis']"
   ]
  },
  {
   "cell_type": "markdown",
   "metadata": {},
   "source": [
    "# Constants"
   ]
  },
  {
   "cell_type": "code",
   "execution_count": 3,
   "metadata": {},
   "outputs": [],
   "source": [
    "# Ammount of samples\n",
    "n_samples = X.shape[0]\n",
    "# Observed space dimensionality\n",
    "dim = X.shape[1]\n",
    "# Ammount of classes\n",
    "n_classes = len(y.unique())"
   ]
  },
  {
   "cell_type": "markdown",
   "metadata": {},
   "source": [
    "# BayesPy"
   ]
  },
  {
   "cell_type": "markdown",
   "metadata": {},
   "source": [
    "## Model definition"
   ]
  },
  {
   "cell_type": "markdown",
   "metadata": {},
   "source": [
    "Mean and precision distribucion defined as\n",
    "$$\n",
    "\\mu \\sim \\mathcal{N}_{dim}(0,I) \\quad \\text{and} \\quad \\Lambda \\sim \\mathcal{W}(dim,I_{dim}).\n",
    "$$"
   ]
  },
  {
   "cell_type": "markdown",
   "metadata": {},
   "source": [
    "Mixture weights follow a Dirichlet distribution\n",
    "$$\n",
    "    \\pi \\sim \\text{Symmetric-Dirichlet}\\Big(\\frac{1}{n\\_components}\\Big).\n",
    "$$"
   ]
  },
  {
   "cell_type": "markdown",
   "metadata": {},
   "source": [
    "The variable modeling the component assignation follows a categorical distribution as\n",
    "$$\n",
    "    Z_n \\sim \\text{Categorical}(\\pi).\n",
    "$$"
   ]
  },
  {
   "cell_type": "code",
   "execution_count": 4,
   "metadata": {},
   "outputs": [],
   "source": [
    "# Define a function that returns all the variables of the model.\n",
    "def GaussianMixture(dim, n_components, n_samples):\n",
    "    Lambda = nodes.Wishart(dim, np.identity(dim), plates=(n_components,))\n",
    "    mu = nodes.Gaussian(np.zeros(dim), np.identity(dim), plates=(n_components,))\n",
    "    pi = nodes.Dirichlet(np.ones(n_components)/n_components)\n",
    "    z = nodes.Categorical(pi, plates=(n_samples,))\n",
    "    x = nodes.Mixture(z, nodes.Gaussian, mu, Lambda)\n",
    "\n",
    "    return x, z, pi, mu, Lambda"
   ]
  },
  {
   "cell_type": "markdown",
   "metadata": {},
   "source": [
    "## Breast Cancer Diagnosys"
   ]
  },
  {
   "cell_type": "markdown",
   "metadata": {},
   "source": [
    "We define the model using the dataset dimensions."
   ]
  },
  {
   "cell_type": "code",
   "execution_count": 5,
   "metadata": {},
   "outputs": [],
   "source": [
    "x, z, pi, mu, Lambda = GaussianMixture(dim = X.shape[1], \n",
    "                                       n_components = len(y.unique()), \n",
    "                                       n_samples = X.shape[0])"
   ]
  },
  {
   "cell_type": "markdown",
   "metadata": {},
   "source": [
    "`Pandas' dataframes` can't be used. to observe the data as they raise a dimensionality error. We may transform it to a `Numpy` array."
   ]
  },
  {
   "cell_type": "code",
   "execution_count": 6,
   "metadata": {},
   "outputs": [],
   "source": [
    "x.observe(X.to_numpy())"
   ]
  },
  {
   "cell_type": "markdown",
   "metadata": {},
   "source": [
    "Create the inference object."
   ]
  },
  {
   "cell_type": "code",
   "execution_count": 7,
   "metadata": {},
   "outputs": [],
   "source": [
    "Q = VB(x, mu, z, Lambda, pi)"
   ]
  },
  {
   "cell_type": "markdown",
   "metadata": {},
   "source": [
    "Initialize `z` using random values as letting the default initialization (prior) leads to the same 2 distributions."
   ]
  },
  {
   "cell_type": "code",
   "execution_count": 8,
   "metadata": {},
   "outputs": [],
   "source": [
    "z.initialize_from_random()"
   ]
  },
  {
   "cell_type": "markdown",
   "metadata": {},
   "source": [
    "Start learning."
   ]
  },
  {
   "cell_type": "code",
   "execution_count": 9,
   "metadata": {},
   "outputs": [
    {
     "name": "stdout",
     "output_type": "stream",
     "text": [
      "Iteration 1: loglike=-1.229165e+06 (0.057 seconds)\n",
      "Iteration 2: loglike=-6.573372e+03 (0.081 seconds)\n",
      "Iteration 3: loglike=-4.811194e+03 (0.086 seconds)\n",
      "Iteration 4: loglike=-4.195404e+03 (0.077 seconds)\n",
      "Iteration 5: loglike=-3.934526e+03 (0.071 seconds)\n",
      "Iteration 6: loglike=-3.685506e+03 (0.057 seconds)\n",
      "Iteration 7: loglike=-3.414732e+03 (0.058 seconds)\n",
      "Iteration 8: loglike=-3.123762e+03 (0.063 seconds)\n",
      "Iteration 9: loglike=-2.913217e+03 (0.061 seconds)\n",
      "Iteration 10: loglike=-2.764515e+03 (0.054 seconds)\n",
      "Iteration 11: loglike=-2.630799e+03 (0.050 seconds)\n",
      "Iteration 12: loglike=-2.523561e+03 (0.058 seconds)\n",
      "Iteration 13: loglike=-2.456218e+03 (0.059 seconds)\n",
      "Iteration 14: loglike=-2.414676e+03 (0.051 seconds)\n",
      "Iteration 15: loglike=-2.393060e+03 (0.053 seconds)\n",
      "Iteration 16: loglike=-2.365463e+03 (0.052 seconds)\n",
      "Iteration 17: loglike=-2.321662e+03 (0.054 seconds)\n",
      "Iteration 18: loglike=-2.309745e+03 (0.051 seconds)\n",
      "Iteration 19: loglike=-2.284863e+03 (0.048 seconds)\n",
      "Iteration 20: loglike=-2.236125e+03 (0.064 seconds)\n",
      "Iteration 21: loglike=-2.132205e+03 (0.069 seconds)\n",
      "Iteration 22: loglike=-2.068924e+03 (0.050 seconds)\n",
      "Iteration 23: loglike=-2.061257e+03 (0.050 seconds)\n",
      "Iteration 24: loglike=-2.058947e+03 (0.074 seconds)\n",
      "Iteration 25: loglike=-2.056895e+03 (0.062 seconds)\n",
      "Iteration 26: loglike=-2.055032e+03 (0.051 seconds)\n",
      "Iteration 27: loglike=-2.053330e+03 (0.051 seconds)\n",
      "Iteration 28: loglike=-2.051768e+03 (0.058 seconds)\n",
      "Iteration 29: loglike=-2.050328e+03 (0.055 seconds)\n",
      "Iteration 30: loglike=-2.048992e+03 (0.054 seconds)\n",
      "Iteration 31: loglike=-2.047750e+03 (0.049 seconds)\n",
      "Iteration 32: loglike=-2.046588e+03 (0.052 seconds)\n",
      "Iteration 33: loglike=-2.045498e+03 (0.059 seconds)\n",
      "Iteration 34: loglike=-2.044471e+03 (0.056 seconds)\n",
      "Iteration 35: loglike=-2.043500e+03 (0.051 seconds)\n",
      "Iteration 36: loglike=-2.042579e+03 (0.054 seconds)\n",
      "Iteration 37: loglike=-2.041702e+03 (0.063 seconds)\n",
      "Iteration 38: loglike=-2.040865e+03 (0.053 seconds)\n",
      "Iteration 39: loglike=-2.040063e+03 (0.052 seconds)\n",
      "Iteration 40: loglike=-2.039293e+03 (0.054 seconds)\n",
      "Iteration 41: loglike=-2.038552e+03 (0.060 seconds)\n",
      "Iteration 42: loglike=-2.037837e+03 (0.055 seconds)\n",
      "Iteration 43: loglike=-2.037146e+03 (0.053 seconds)\n",
      "Iteration 44: loglike=-2.036476e+03 (0.065 seconds)\n",
      "Iteration 45: loglike=-2.035827e+03 (0.061 seconds)\n",
      "Iteration 46: loglike=-2.035196e+03 (0.050 seconds)\n",
      "Iteration 47: loglike=-2.034583e+03 (0.051 seconds)\n",
      "Iteration 48: loglike=-2.033985e+03 (0.055 seconds)\n",
      "Iteration 49: loglike=-2.033403e+03 (0.059 seconds)\n",
      "Iteration 50: loglike=-2.032834e+03 (0.053 seconds)\n",
      "Iteration 51: loglike=-2.032278e+03 (0.052 seconds)\n",
      "Iteration 52: loglike=-2.031735e+03 (0.059 seconds)\n",
      "Iteration 53: loglike=-2.031204e+03 (0.062 seconds)\n",
      "Iteration 54: loglike=-2.030684e+03 (0.050 seconds)\n",
      "Iteration 55: loglike=-2.030175e+03 (0.052 seconds)\n",
      "Iteration 56: loglike=-2.029676e+03 (0.052 seconds)\n",
      "Iteration 57: loglike=-2.029187e+03 (0.056 seconds)\n",
      "Iteration 58: loglike=-2.028707e+03 (0.056 seconds)\n",
      "Iteration 59: loglike=-2.028237e+03 (0.050 seconds)\n",
      "Iteration 60: loglike=-2.027775e+03 (0.051 seconds)\n",
      "Iteration 61: loglike=-2.027322e+03 (0.054 seconds)\n",
      "Iteration 62: loglike=-2.026877e+03 (0.050 seconds)\n",
      "Iteration 63: loglike=-2.026440e+03 (0.053 seconds)\n",
      "Iteration 64: loglike=-2.026011e+03 (0.054 seconds)\n",
      "Iteration 65: loglike=-2.025590e+03 (0.064 seconds)\n",
      "Iteration 66: loglike=-2.025176e+03 (0.048 seconds)\n",
      "Iteration 67: loglike=-2.024769e+03 (0.050 seconds)\n",
      "Iteration 68: loglike=-2.024369e+03 (0.048 seconds)\n",
      "Iteration 69: loglike=-2.023977e+03 (0.059 seconds)\n",
      "Iteration 70: loglike=-2.023591e+03 (0.046 seconds)\n",
      "Iteration 71: loglike=-2.023211e+03 (0.048 seconds)\n",
      "Iteration 72: loglike=-2.022838e+03 (0.046 seconds)\n",
      "Iteration 73: loglike=-2.022472e+03 (0.059 seconds)\n",
      "Iteration 74: loglike=-2.022111e+03 (0.048 seconds)\n",
      "Iteration 75: loglike=-2.021757e+03 (0.053 seconds)\n",
      "Iteration 76: loglike=-2.021409e+03 (0.047 seconds)\n",
      "Iteration 77: loglike=-2.021066e+03 (0.051 seconds)\n",
      "Iteration 78: loglike=-2.020729e+03 (0.068 seconds)\n",
      "Iteration 79: loglike=-2.020398e+03 (0.049 seconds)\n",
      "Iteration 80: loglike=-2.020072e+03 (0.049 seconds)\n",
      "Iteration 81: loglike=-2.019752e+03 (0.049 seconds)\n",
      "Iteration 82: loglike=-2.019437e+03 (0.050 seconds)\n",
      "Iteration 83: loglike=-2.019127e+03 (0.065 seconds)\n",
      "Iteration 84: loglike=-2.018823e+03 (0.050 seconds)\n",
      "Iteration 85: loglike=-2.018523e+03 (0.054 seconds)\n",
      "Iteration 86: loglike=-2.018228e+03 (0.052 seconds)\n",
      "Iteration 87: loglike=-2.017938e+03 (0.053 seconds)\n",
      "Iteration 88: loglike=-2.017653e+03 (0.060 seconds)\n",
      "Iteration 89: loglike=-2.017373e+03 (0.058 seconds)\n",
      "Iteration 90: loglike=-2.017097e+03 (0.054 seconds)\n",
      "Iteration 91: loglike=-2.016825e+03 (0.052 seconds)\n",
      "Iteration 92: loglike=-2.016558e+03 (0.071 seconds)\n",
      "Iteration 93: loglike=-2.016296e+03 (0.058 seconds)\n",
      "Iteration 94: loglike=-2.016037e+03 (0.054 seconds)\n",
      "Iteration 95: loglike=-2.015783e+03 (0.057 seconds)\n",
      "Iteration 96: loglike=-2.015533e+03 (0.050 seconds)\n",
      "Iteration 97: loglike=-2.015287e+03 (0.048 seconds)\n",
      "Iteration 98: loglike=-2.015045e+03 (0.051 seconds)\n",
      "Iteration 99: loglike=-2.014807e+03 (0.052 seconds)\n",
      "Iteration 100: loglike=-2.014573e+03 (0.062 seconds)\n",
      "Iteration 101: loglike=-2.014343e+03 (0.048 seconds)\n",
      "Iteration 102: loglike=-2.014116e+03 (0.052 seconds)\n",
      "Iteration 103: loglike=-2.013893e+03 (0.049 seconds)\n",
      "Iteration 104: loglike=-2.013673e+03 (0.052 seconds)\n",
      "Iteration 105: loglike=-2.013457e+03 (0.074 seconds)\n",
      "Iteration 106: loglike=-2.013245e+03 (0.048 seconds)\n",
      "Iteration 107: loglike=-2.013035e+03 (0.048 seconds)\n",
      "Iteration 108: loglike=-2.012830e+03 (0.049 seconds)\n",
      "Iteration 109: loglike=-2.012627e+03 (0.046 seconds)\n",
      "Iteration 110: loglike=-2.012428e+03 (0.067 seconds)\n",
      "Iteration 111: loglike=-2.012232e+03 (0.048 seconds)\n",
      "Iteration 112: loglike=-2.012039e+03 (0.052 seconds)\n",
      "Iteration 113: loglike=-2.011849e+03 (0.056 seconds)\n",
      "Iteration 114: loglike=-2.011662e+03 (0.056 seconds)\n",
      "Iteration 115: loglike=-2.011478e+03 (0.060 seconds)\n",
      "Iteration 116: loglike=-2.011297e+03 (0.051 seconds)\n",
      "Iteration 117: loglike=-2.011119e+03 (0.051 seconds)\n",
      "Iteration 118: loglike=-2.010943e+03 (0.052 seconds)\n",
      "Iteration 119: loglike=-2.010771e+03 (0.063 seconds)\n",
      "Iteration 120: loglike=-2.010601e+03 (0.048 seconds)\n",
      "Iteration 121: loglike=-2.010434e+03 (0.049 seconds)\n",
      "Iteration 122: loglike=-2.010269e+03 (0.049 seconds)\n",
      "Iteration 123: loglike=-2.010107e+03 (0.059 seconds)\n",
      "Iteration 124: loglike=-2.009948e+03 (0.050 seconds)\n",
      "Iteration 125: loglike=-2.009791e+03 (0.052 seconds)\n",
      "Iteration 126: loglike=-2.009636e+03 (0.049 seconds)\n",
      "Iteration 127: loglike=-2.009484e+03 (0.062 seconds)\n",
      "Iteration 128: loglike=-2.009334e+03 (0.050 seconds)\n",
      "Iteration 129: loglike=-2.009187e+03 (0.052 seconds)\n",
      "Iteration 130: loglike=-2.009042e+03 (0.050 seconds)\n",
      "Iteration 131: loglike=-2.008899e+03 (0.077 seconds)\n",
      "Iteration 132: loglike=-2.008758e+03 (0.047 seconds)\n",
      "Iteration 133: loglike=-2.008620e+03 (0.050 seconds)\n",
      "Iteration 134: loglike=-2.008483e+03 (0.065 seconds)\n",
      "Iteration 135: loglike=-2.008349e+03 (0.048 seconds)\n",
      "Iteration 136: loglike=-2.008217e+03 (0.053 seconds)\n",
      "Iteration 137: loglike=-2.008087e+03 (0.047 seconds)\n",
      "Iteration 138: loglike=-2.007959e+03 (0.056 seconds)\n",
      "Iteration 139: loglike=-2.007833e+03 (0.052 seconds)\n",
      "Iteration 140: loglike=-2.007708e+03 (0.050 seconds)\n",
      "Iteration 141: loglike=-2.007586e+03 (0.047 seconds)\n",
      "Iteration 142: loglike=-2.007466e+03 (0.050 seconds)\n",
      "Iteration 143: loglike=-2.007347e+03 (0.053 seconds)\n",
      "Iteration 144: loglike=-2.007230e+03 (0.054 seconds)\n",
      "Iteration 145: loglike=-2.007115e+03 (0.054 seconds)\n",
      "Iteration 146: loglike=-2.007002e+03 (0.050 seconds)\n",
      "Iteration 147: loglike=-2.006890e+03 (0.049 seconds)\n",
      "Iteration 148: loglike=-2.006780e+03 (0.050 seconds)\n",
      "Iteration 149: loglike=-2.006672e+03 (0.047 seconds)\n",
      "Iteration 150: loglike=-2.006566e+03 (0.050 seconds)\n",
      "Iteration 151: loglike=-2.006461e+03 (0.062 seconds)\n",
      "Iteration 152: loglike=-2.006357e+03 (0.058 seconds)\n",
      "Iteration 153: loglike=-2.006256e+03 (0.080 seconds)\n",
      "Iteration 154: loglike=-2.006155e+03 (0.081 seconds)\n",
      "Iteration 155: loglike=-2.006056e+03 (0.079 seconds)\n",
      "Iteration 156: loglike=-2.005959e+03 (0.051 seconds)\n",
      "Iteration 157: loglike=-2.005863e+03 (0.050 seconds)\n"
     ]
    },
    {
     "name": "stdout",
     "output_type": "stream",
     "text": [
      "Iteration 158: loglike=-2.005769e+03 (0.055 seconds)\n",
      "Iteration 159: loglike=-2.005676e+03 (0.048 seconds)\n",
      "Iteration 160: loglike=-2.005584e+03 (0.049 seconds)\n",
      "Iteration 161: loglike=-2.005494e+03 (0.050 seconds)\n",
      "Iteration 162: loglike=-2.005405e+03 (0.049 seconds)\n",
      "Iteration 163: loglike=-2.005317e+03 (0.062 seconds)\n",
      "Iteration 164: loglike=-2.005231e+03 (0.062 seconds)\n",
      "Iteration 165: loglike=-2.005146e+03 (0.057 seconds)\n",
      "Iteration 166: loglike=-2.005062e+03 (0.052 seconds)\n",
      "Iteration 167: loglike=-2.004980e+03 (0.051 seconds)\n",
      "Iteration 168: loglike=-2.004899e+03 (0.053 seconds)\n",
      "Iteration 169: loglike=-2.004818e+03 (0.049 seconds)\n",
      "Iteration 170: loglike=-2.004739e+03 (0.050 seconds)\n",
      "Iteration 171: loglike=-2.004662e+03 (0.054 seconds)\n",
      "Iteration 172: loglike=-2.004585e+03 (0.050 seconds)\n",
      "Iteration 173: loglike=-2.004510e+03 (0.051 seconds)\n",
      "Iteration 174: loglike=-2.004435e+03 (0.049 seconds)\n",
      "Iteration 175: loglike=-2.004362e+03 (0.051 seconds)\n",
      "Iteration 176: loglike=-2.004289e+03 (0.049 seconds)\n",
      "Iteration 177: loglike=-2.004218e+03 (0.049 seconds)\n",
      "Iteration 178: loglike=-2.004148e+03 (0.049 seconds)\n",
      "Iteration 179: loglike=-2.004079e+03 (0.046 seconds)\n",
      "Iteration 180: loglike=-2.004011e+03 (0.052 seconds)\n",
      "Iteration 181: loglike=-2.003944e+03 (0.052 seconds)\n",
      "Iteration 182: loglike=-2.003877e+03 (0.050 seconds)\n",
      "Iteration 183: loglike=-2.003812e+03 (0.048 seconds)\n",
      "Iteration 184: loglike=-2.003748e+03 (0.053 seconds)\n",
      "Iteration 185: loglike=-2.003684e+03 (0.060 seconds)\n",
      "Iteration 186: loglike=-2.003622e+03 (0.049 seconds)\n",
      "Iteration 187: loglike=-2.003560e+03 (0.048 seconds)\n",
      "Iteration 188: loglike=-2.003500e+03 (0.053 seconds)\n",
      "Iteration 189: loglike=-2.003440e+03 (0.052 seconds)\n",
      "Iteration 190: loglike=-2.003381e+03 (0.052 seconds)\n",
      "Iteration 191: loglike=-2.003323e+03 (0.052 seconds)\n",
      "Iteration 192: loglike=-2.003265e+03 (0.053 seconds)\n",
      "Iteration 193: loglike=-2.003209e+03 (0.049 seconds)\n",
      "Iteration 194: loglike=-2.003153e+03 (0.052 seconds)\n",
      "Iteration 195: loglike=-2.003098e+03 (0.049 seconds)\n",
      "Iteration 196: loglike=-2.003044e+03 (0.047 seconds)\n",
      "Iteration 197: loglike=-2.002991e+03 (0.054 seconds)\n",
      "Iteration 198: loglike=-2.002938e+03 (0.054 seconds)\n",
      "Iteration 199: loglike=-2.002886e+03 (0.047 seconds)\n",
      "Iteration 200: loglike=-2.002835e+03 (0.050 seconds)\n",
      "Iteration 201: loglike=-2.002784e+03 (0.048 seconds)\n",
      "Iteration 202: loglike=-2.002735e+03 (0.054 seconds)\n",
      "Iteration 203: loglike=-2.002686e+03 (0.049 seconds)\n",
      "Iteration 204: loglike=-2.002637e+03 (0.050 seconds)\n",
      "Iteration 205: loglike=-2.002590e+03 (0.050 seconds)\n",
      "Iteration 206: loglike=-2.002543e+03 (0.056 seconds)\n",
      "Iteration 207: loglike=-2.002496e+03 (0.052 seconds)\n",
      "Iteration 208: loglike=-2.002451e+03 (0.051 seconds)\n",
      "Iteration 209: loglike=-2.002405e+03 (0.051 seconds)\n",
      "Iteration 210: loglike=-2.002361e+03 (0.048 seconds)\n",
      "Iteration 211: loglike=-2.002317e+03 (0.051 seconds)\n",
      "Iteration 212: loglike=-2.002274e+03 (0.053 seconds)\n",
      "Iteration 213: loglike=-2.002231e+03 (0.050 seconds)\n",
      "Iteration 214: loglike=-2.002189e+03 (0.050 seconds)\n",
      "Iteration 215: loglike=-2.002148e+03 (0.047 seconds)\n",
      "Iteration 216: loglike=-2.002107e+03 (0.057 seconds)\n",
      "Iteration 217: loglike=-2.002066e+03 (0.066 seconds)\n",
      "Iteration 218: loglike=-2.002027e+03 (0.079 seconds)\n",
      "Iteration 219: loglike=-2.001987e+03 (0.078 seconds)\n",
      "Iteration 220: loglike=-2.001949e+03 (0.054 seconds)\n",
      "Iteration 221: loglike=-2.001910e+03 (0.051 seconds)\n",
      "Iteration 222: loglike=-2.001873e+03 (0.046 seconds)\n",
      "Iteration 223: loglike=-2.001836e+03 (0.048 seconds)\n",
      "Iteration 224: loglike=-2.001799e+03 (0.048 seconds)\n",
      "Iteration 225: loglike=-2.001763e+03 (0.052 seconds)\n",
      "Iteration 226: loglike=-2.001727e+03 (0.052 seconds)\n",
      "Iteration 227: loglike=-2.001692e+03 (0.055 seconds)\n",
      "Iteration 228: loglike=-2.001657e+03 (0.049 seconds)\n",
      "Iteration 229: loglike=-2.001623e+03 (0.053 seconds)\n",
      "Iteration 230: loglike=-2.001589e+03 (0.047 seconds)\n",
      "Iteration 231: loglike=-2.001556e+03 (0.054 seconds)\n",
      "Iteration 232: loglike=-2.001523e+03 (0.054 seconds)\n",
      "Iteration 233: loglike=-2.001490e+03 (0.049 seconds)\n",
      "Iteration 234: loglike=-2.001458e+03 (0.050 seconds)\n",
      "Iteration 235: loglike=-2.001427e+03 (0.054 seconds)\n",
      "Iteration 236: loglike=-2.001396e+03 (0.051 seconds)\n",
      "Iteration 237: loglike=-2.001365e+03 (0.053 seconds)\n",
      "Iteration 238: loglike=-2.001334e+03 (0.049 seconds)\n",
      "Iteration 239: loglike=-2.001304e+03 (0.048 seconds)\n",
      "Iteration 240: loglike=-2.001275e+03 (0.056 seconds)\n",
      "Iteration 241: loglike=-2.001246e+03 (0.049 seconds)\n",
      "Iteration 242: loglike=-2.001217e+03 (0.052 seconds)\n",
      "Iteration 243: loglike=-2.001189e+03 (0.049 seconds)\n",
      "Iteration 244: loglike=-2.001161e+03 (0.053 seconds)\n",
      "Iteration 245: loglike=-2.001133e+03 (0.053 seconds)\n",
      "Iteration 246: loglike=-2.001106e+03 (0.052 seconds)\n",
      "Iteration 247: loglike=-2.001079e+03 (0.049 seconds)\n",
      "Iteration 248: loglike=-2.001052e+03 (0.049 seconds)\n",
      "Iteration 249: loglike=-2.001026e+03 (0.058 seconds)\n",
      "Iteration 250: loglike=-2.001000e+03 (0.050 seconds)\n",
      "Iteration 251: loglike=-2.000974e+03 (0.057 seconds)\n",
      "Iteration 252: loglike=-2.000949e+03 (0.056 seconds)\n",
      "Iteration 253: loglike=-2.000924e+03 (0.050 seconds)\n",
      "Iteration 254: loglike=-2.000900e+03 (0.046 seconds)\n",
      "Iteration 255: loglike=-2.000875e+03 (0.049 seconds)\n",
      "Iteration 256: loglike=-2.000851e+03 (0.048 seconds)\n",
      "Iteration 257: loglike=-2.000828e+03 (0.052 seconds)\n",
      "Iteration 258: loglike=-2.000804e+03 (0.051 seconds)\n",
      "Iteration 259: loglike=-2.000781e+03 (0.045 seconds)\n",
      "Iteration 260: loglike=-2.000759e+03 (0.047 seconds)\n",
      "Iteration 261: loglike=-2.000736e+03 (0.046 seconds)\n",
      "Iteration 262: loglike=-2.000714e+03 (0.048 seconds)\n",
      "Iteration 263: loglike=-2.000692e+03 (0.048 seconds)\n",
      "Iteration 264: loglike=-2.000671e+03 (0.049 seconds)\n",
      "Iteration 265: loglike=-2.000649e+03 (0.050 seconds)\n",
      "Iteration 266: loglike=-2.000628e+03 (0.047 seconds)\n",
      "Iteration 267: loglike=-2.000607e+03 (0.055 seconds)\n",
      "Iteration 268: loglike=-2.000587e+03 (0.051 seconds)\n",
      "Iteration 269: loglike=-2.000567e+03 (0.050 seconds)\n",
      "Iteration 270: loglike=-2.000547e+03 (0.049 seconds)\n",
      "Converged at iteration 270.\n"
     ]
    }
   ],
   "source": [
    "Q.update(repeat=1000)"
   ]
  },
  {
   "cell_type": "markdown",
   "metadata": {},
   "source": [
    "Each component probability may be inspected using `pi`."
   ]
  },
  {
   "cell_type": "code",
   "execution_count": 10,
   "metadata": {},
   "outputs": [
    {
     "name": "stdout",
     "output_type": "stream",
     "text": [
      " ~ Dirichlet(alpha)\n",
      "  alpha =\n",
      "[  6.5 563.5]\n"
     ]
    }
   ],
   "source": [
    "print(pi)"
   ]
  },
  {
   "cell_type": "markdown",
   "metadata": {},
   "source": [
    "`Z` models each datapoint component and its first moment shows the probability of belonging to each component."
   ]
  },
  {
   "cell_type": "code",
   "execution_count": 11,
   "metadata": {},
   "outputs": [
    {
     "name": "stdout",
     "output_type": "stream",
     "text": [
      "[[6.42285340e-323 1.00000000e+000]\n",
      " [0.00000000e+000 1.00000000e+000]\n",
      " [0.00000000e+000 1.00000000e+000]\n",
      " [0.00000000e+000 1.00000000e+000]\n",
      " [0.00000000e+000 1.00000000e+000]\n",
      " [0.00000000e+000 1.00000000e+000]\n",
      " [0.00000000e+000 1.00000000e+000]\n",
      " [0.00000000e+000 1.00000000e+000]\n",
      " [5.68872459e-300 1.00000000e+000]\n",
      " [0.00000000e+000 1.00000000e+000]\n",
      " [0.00000000e+000 1.00000000e+000]\n",
      " [0.00000000e+000 1.00000000e+000]\n",
      " [0.00000000e+000 1.00000000e+000]\n",
      " [0.00000000e+000 1.00000000e+000]\n",
      " [0.00000000e+000 1.00000000e+000]\n",
      " [0.00000000e+000 1.00000000e+000]\n",
      " [0.00000000e+000 1.00000000e+000]\n",
      " [0.00000000e+000 1.00000000e+000]\n",
      " [0.00000000e+000 1.00000000e+000]\n",
      " [0.00000000e+000 1.00000000e+000]\n",
      " [0.00000000e+000 1.00000000e+000]\n",
      " [0.00000000e+000 1.00000000e+000]\n",
      " [0.00000000e+000 1.00000000e+000]\n",
      " [0.00000000e+000 1.00000000e+000]\n",
      " [0.00000000e+000 1.00000000e+000]\n",
      " [0.00000000e+000 1.00000000e+000]\n",
      " [0.00000000e+000 1.00000000e+000]\n",
      " [0.00000000e+000 1.00000000e+000]\n",
      " [6.63946041e-291 1.00000000e+000]\n",
      " [0.00000000e+000 1.00000000e+000]\n",
      " [0.00000000e+000 1.00000000e+000]\n",
      " [0.00000000e+000 1.00000000e+000]\n",
      " [0.00000000e+000 1.00000000e+000]\n",
      " [0.00000000e+000 1.00000000e+000]\n",
      " [0.00000000e+000 1.00000000e+000]\n",
      " [0.00000000e+000 1.00000000e+000]\n",
      " [0.00000000e+000 1.00000000e+000]\n",
      " [0.00000000e+000 1.00000000e+000]\n",
      " [0.00000000e+000 1.00000000e+000]\n",
      " [0.00000000e+000 1.00000000e+000]\n",
      " [0.00000000e+000 1.00000000e+000]\n",
      " [0.00000000e+000 1.00000000e+000]\n",
      " [0.00000000e+000 1.00000000e+000]\n",
      " [0.00000000e+000 1.00000000e+000]\n",
      " [0.00000000e+000 1.00000000e+000]\n",
      " [0.00000000e+000 1.00000000e+000]\n",
      " [0.00000000e+000 1.00000000e+000]\n",
      " [0.00000000e+000 1.00000000e+000]\n",
      " [0.00000000e+000 1.00000000e+000]\n",
      " [0.00000000e+000 1.00000000e+000]\n",
      " [1.43279037e-322 1.00000000e+000]\n",
      " [0.00000000e+000 1.00000000e+000]\n",
      " [4.70284382e-284 1.00000000e+000]\n",
      " [0.00000000e+000 1.00000000e+000]\n",
      " [0.00000000e+000 1.00000000e+000]\n",
      " [1.97066985e-163 1.00000000e+000]\n",
      " [0.00000000e+000 1.00000000e+000]\n",
      " [0.00000000e+000 1.00000000e+000]\n",
      " [0.00000000e+000 1.00000000e+000]\n",
      " [0.00000000e+000 1.00000000e+000]\n",
      " [0.00000000e+000 1.00000000e+000]\n",
      " [0.00000000e+000 1.00000000e+000]\n",
      " [0.00000000e+000 1.00000000e+000]\n",
      " [0.00000000e+000 1.00000000e+000]\n",
      " [9.73072235e-294 1.00000000e+000]\n",
      " [4.29528765e-241 1.00000000e+000]\n",
      " [0.00000000e+000 1.00000000e+000]\n",
      " [0.00000000e+000 1.00000000e+000]\n",
      " [0.00000000e+000 1.00000000e+000]\n",
      " [0.00000000e+000 1.00000000e+000]\n",
      " [0.00000000e+000 1.00000000e+000]\n",
      " [0.00000000e+000 1.00000000e+000]\n",
      " [0.00000000e+000 1.00000000e+000]\n",
      " [1.17329487e-072 1.00000000e+000]\n",
      " [0.00000000e+000 1.00000000e+000]\n",
      " [0.00000000e+000 1.00000000e+000]\n",
      " [0.00000000e+000 1.00000000e+000]\n",
      " [0.00000000e+000 1.00000000e+000]\n",
      " [1.84842533e-216 1.00000000e+000]\n",
      " [0.00000000e+000 1.00000000e+000]\n",
      " [2.84604813e-229 1.00000000e+000]\n",
      " [0.00000000e+000 1.00000000e+000]\n",
      " [0.00000000e+000 1.00000000e+000]\n",
      " [0.00000000e+000 1.00000000e+000]\n",
      " [0.00000000e+000 1.00000000e+000]\n",
      " [0.00000000e+000 1.00000000e+000]\n",
      " [0.00000000e+000 1.00000000e+000]\n",
      " [0.00000000e+000 1.00000000e+000]\n",
      " [0.00000000e+000 1.00000000e+000]\n",
      " [0.00000000e+000 1.00000000e+000]\n",
      " [0.00000000e+000 1.00000000e+000]\n",
      " [0.00000000e+000 1.00000000e+000]\n",
      " [0.00000000e+000 1.00000000e+000]\n",
      " [0.00000000e+000 1.00000000e+000]\n",
      " [0.00000000e+000 1.00000000e+000]\n",
      " [0.00000000e+000 1.00000000e+000]\n",
      " [0.00000000e+000 1.00000000e+000]\n",
      " [0.00000000e+000 1.00000000e+000]\n",
      " [0.00000000e+000 1.00000000e+000]\n",
      " [0.00000000e+000 1.00000000e+000]\n",
      " [3.50512803e-162 1.00000000e+000]\n",
      " [0.00000000e+000 1.00000000e+000]\n",
      " [0.00000000e+000 1.00000000e+000]\n",
      " [0.00000000e+000 1.00000000e+000]\n",
      " [3.16838864e-318 1.00000000e+000]\n",
      " [0.00000000e+000 1.00000000e+000]\n",
      " [0.00000000e+000 1.00000000e+000]\n",
      " [0.00000000e+000 1.00000000e+000]\n",
      " [6.15575884e-290 1.00000000e+000]\n",
      " [0.00000000e+000 1.00000000e+000]\n",
      " [3.64643004e-235 1.00000000e+000]\n",
      " [0.00000000e+000 1.00000000e+000]\n",
      " [0.00000000e+000 1.00000000e+000]\n",
      " [0.00000000e+000 1.00000000e+000]\n",
      " [0.00000000e+000 1.00000000e+000]\n",
      " [0.00000000e+000 1.00000000e+000]\n",
      " [0.00000000e+000 1.00000000e+000]\n",
      " [0.00000000e+000 1.00000000e+000]\n",
      " [0.00000000e+000 1.00000000e+000]\n",
      " [0.00000000e+000 1.00000000e+000]\n",
      " [0.00000000e+000 1.00000000e+000]\n",
      " [0.00000000e+000 1.00000000e+000]\n",
      " [0.00000000e+000 1.00000000e+000]\n",
      " [0.00000000e+000 1.00000000e+000]\n",
      " [0.00000000e+000 1.00000000e+000]\n",
      " [0.00000000e+000 1.00000000e+000]\n",
      " [0.00000000e+000 1.00000000e+000]\n",
      " [0.00000000e+000 1.00000000e+000]\n",
      " [0.00000000e+000 1.00000000e+000]\n",
      " [0.00000000e+000 1.00000000e+000]\n",
      " [0.00000000e+000 1.00000000e+000]\n",
      " [5.77034596e-253 1.00000000e+000]\n",
      " [0.00000000e+000 1.00000000e+000]\n",
      " [0.00000000e+000 1.00000000e+000]\n",
      " [0.00000000e+000 1.00000000e+000]\n",
      " [0.00000000e+000 1.00000000e+000]\n",
      " [2.17388884e-322 1.00000000e+000]\n",
      " [4.41699371e-310 1.00000000e+000]\n",
      " [0.00000000e+000 1.00000000e+000]\n",
      " [0.00000000e+000 1.00000000e+000]\n",
      " [0.00000000e+000 1.00000000e+000]\n",
      " [0.00000000e+000 1.00000000e+000]\n",
      " [0.00000000e+000 1.00000000e+000]\n",
      " [0.00000000e+000 1.00000000e+000]\n",
      " [0.00000000e+000 1.00000000e+000]\n",
      " [0.00000000e+000 1.00000000e+000]\n",
      " [1.40585751e-213 1.00000000e+000]\n",
      " [0.00000000e+000 1.00000000e+000]\n",
      " [0.00000000e+000 1.00000000e+000]\n",
      " [0.00000000e+000 1.00000000e+000]\n",
      " [0.00000000e+000 1.00000000e+000]\n",
      " [0.00000000e+000 1.00000000e+000]\n",
      " [2.22715795e-231 1.00000000e+000]\n",
      " [0.00000000e+000 1.00000000e+000]\n",
      " [0.00000000e+000 1.00000000e+000]\n",
      " [0.00000000e+000 1.00000000e+000]\n",
      " [0.00000000e+000 1.00000000e+000]\n",
      " [0.00000000e+000 1.00000000e+000]\n",
      " [0.00000000e+000 1.00000000e+000]\n",
      " [0.00000000e+000 1.00000000e+000]\n",
      " [1.84906903e-304 1.00000000e+000]\n",
      " [0.00000000e+000 1.00000000e+000]\n",
      " [0.00000000e+000 1.00000000e+000]\n",
      " [4.79772338e-234 1.00000000e+000]\n",
      " [0.00000000e+000 1.00000000e+000]\n",
      " [0.00000000e+000 1.00000000e+000]\n",
      " [0.00000000e+000 1.00000000e+000]\n",
      " [0.00000000e+000 1.00000000e+000]\n",
      " [0.00000000e+000 1.00000000e+000]\n",
      " [0.00000000e+000 1.00000000e+000]\n",
      " [0.00000000e+000 1.00000000e+000]\n",
      " [0.00000000e+000 1.00000000e+000]\n",
      " [0.00000000e+000 1.00000000e+000]\n",
      " [0.00000000e+000 1.00000000e+000]\n",
      " [0.00000000e+000 1.00000000e+000]\n",
      " [2.47984143e-309 1.00000000e+000]\n",
      " [0.00000000e+000 1.00000000e+000]\n",
      " [1.28457068e-322 1.00000000e+000]\n",
      " [0.00000000e+000 1.00000000e+000]\n",
      " [0.00000000e+000 1.00000000e+000]\n",
      " [0.00000000e+000 1.00000000e+000]\n",
      " [0.00000000e+000 1.00000000e+000]\n",
      " [0.00000000e+000 1.00000000e+000]\n",
      " [1.64903781e-271 1.00000000e+000]\n",
      " [0.00000000e+000 1.00000000e+000]\n",
      " [0.00000000e+000 1.00000000e+000]\n",
      " [0.00000000e+000 1.00000000e+000]\n",
      " [0.00000000e+000 1.00000000e+000]\n",
      " [0.00000000e+000 1.00000000e+000]\n",
      " [8.32326353e-257 1.00000000e+000]\n",
      " [0.00000000e+000 1.00000000e+000]\n",
      " [0.00000000e+000 1.00000000e+000]\n",
      " [0.00000000e+000 1.00000000e+000]\n",
      " [0.00000000e+000 1.00000000e+000]\n",
      " [0.00000000e+000 1.00000000e+000]\n",
      " [0.00000000e+000 1.00000000e+000]\n",
      " [0.00000000e+000 1.00000000e+000]\n",
      " [0.00000000e+000 1.00000000e+000]\n",
      " [0.00000000e+000 1.00000000e+000]\n",
      " [0.00000000e+000 1.00000000e+000]\n",
      " [0.00000000e+000 1.00000000e+000]\n",
      " [0.00000000e+000 1.00000000e+000]\n",
      " [1.56842127e-107 1.00000000e+000]\n",
      " [0.00000000e+000 1.00000000e+000]\n",
      " [0.00000000e+000 1.00000000e+000]\n",
      " [8.09741185e-189 1.00000000e+000]\n",
      " [6.98276944e-258 1.00000000e+000]\n",
      " [1.77877875e-163 1.00000000e+000]\n",
      " [0.00000000e+000 1.00000000e+000]\n",
      " [0.00000000e+000 1.00000000e+000]\n",
      " [5.00744549e-263 1.00000000e+000]\n",
      " [0.00000000e+000 1.00000000e+000]\n",
      " [0.00000000e+000 1.00000000e+000]\n",
      " [0.00000000e+000 1.00000000e+000]\n",
      " [0.00000000e+000 1.00000000e+000]\n",
      " [1.03712605e-308 1.00000000e+000]\n",
      " [0.00000000e+000 1.00000000e+000]\n",
      " [2.51040570e-278 1.00000000e+000]\n",
      " [0.00000000e+000 1.00000000e+000]\n",
      " [0.00000000e+000 1.00000000e+000]\n",
      " [0.00000000e+000 1.00000000e+000]\n",
      " [0.00000000e+000 1.00000000e+000]\n",
      " [1.60305180e-278 1.00000000e+000]\n",
      " [0.00000000e+000 1.00000000e+000]\n",
      " [0.00000000e+000 1.00000000e+000]\n",
      " [0.00000000e+000 1.00000000e+000]\n",
      " [0.00000000e+000 1.00000000e+000]\n",
      " [0.00000000e+000 1.00000000e+000]\n",
      " [1.05901684e-299 1.00000000e+000]\n",
      " [0.00000000e+000 1.00000000e+000]\n",
      " [0.00000000e+000 1.00000000e+000]\n",
      " [0.00000000e+000 1.00000000e+000]\n",
      " [2.30898548e-113 1.00000000e+000]\n",
      " [0.00000000e+000 1.00000000e+000]\n",
      " [0.00000000e+000 1.00000000e+000]\n",
      " [0.00000000e+000 1.00000000e+000]\n",
      " [0.00000000e+000 1.00000000e+000]\n",
      " [0.00000000e+000 1.00000000e+000]\n",
      " [7.55189913e-252 1.00000000e+000]\n",
      " [0.00000000e+000 1.00000000e+000]\n",
      " [0.00000000e+000 1.00000000e+000]\n",
      " [0.00000000e+000 1.00000000e+000]\n",
      " [0.00000000e+000 1.00000000e+000]\n",
      " [0.00000000e+000 1.00000000e+000]\n",
      " [0.00000000e+000 1.00000000e+000]\n",
      " [0.00000000e+000 1.00000000e+000]\n",
      " [0.00000000e+000 1.00000000e+000]\n",
      " [0.00000000e+000 1.00000000e+000]\n",
      " [0.00000000e+000 1.00000000e+000]\n",
      " [0.00000000e+000 1.00000000e+000]\n",
      " [0.00000000e+000 1.00000000e+000]\n",
      " [0.00000000e+000 1.00000000e+000]\n",
      " [0.00000000e+000 1.00000000e+000]\n",
      " [0.00000000e+000 1.00000000e+000]\n",
      " [3.16170086e-274 1.00000000e+000]\n",
      " [0.00000000e+000 1.00000000e+000]\n",
      " [3.48471533e-291 1.00000000e+000]\n",
      " [0.00000000e+000 1.00000000e+000]\n",
      " [8.77097527e-286 1.00000000e+000]\n",
      " [0.00000000e+000 1.00000000e+000]\n",
      " [0.00000000e+000 1.00000000e+000]\n",
      " [0.00000000e+000 1.00000000e+000]\n",
      " [0.00000000e+000 1.00000000e+000]\n",
      " [1.89234036e-248 1.00000000e+000]\n",
      " [3.66856424e-232 1.00000000e+000]\n",
      " [0.00000000e+000 1.00000000e+000]\n",
      " [0.00000000e+000 1.00000000e+000]\n",
      " [9.39563558e-264 1.00000000e+000]\n",
      " [0.00000000e+000 1.00000000e+000]\n",
      " [0.00000000e+000 1.00000000e+000]\n",
      " [0.00000000e+000 1.00000000e+000]\n",
      " [0.00000000e+000 1.00000000e+000]\n",
      " [0.00000000e+000 1.00000000e+000]\n",
      " [0.00000000e+000 1.00000000e+000]\n",
      " [3.78419700e-319 1.00000000e+000]\n",
      " [0.00000000e+000 1.00000000e+000]\n",
      " [0.00000000e+000 1.00000000e+000]\n",
      " [0.00000000e+000 1.00000000e+000]\n",
      " [0.00000000e+000 1.00000000e+000]\n",
      " [0.00000000e+000 1.00000000e+000]\n",
      " [0.00000000e+000 1.00000000e+000]\n",
      " [0.00000000e+000 1.00000000e+000]\n",
      " [0.00000000e+000 1.00000000e+000]\n",
      " [5.79268674e-199 1.00000000e+000]\n",
      " [0.00000000e+000 1.00000000e+000]\n",
      " [0.00000000e+000 1.00000000e+000]\n",
      " [0.00000000e+000 1.00000000e+000]\n",
      " [3.67917837e-295 1.00000000e+000]\n",
      " [1.24484876e-228 1.00000000e+000]\n",
      " [0.00000000e+000 1.00000000e+000]\n",
      " [0.00000000e+000 1.00000000e+000]\n",
      " [1.98162867e-291 1.00000000e+000]\n",
      " [0.00000000e+000 1.00000000e+000]\n",
      " [0.00000000e+000 1.00000000e+000]\n",
      " [1.90938034e-172 1.00000000e+000]\n",
      " [2.26202962e-291 1.00000000e+000]\n",
      " [5.01418542e-244 1.00000000e+000]\n",
      " [0.00000000e+000 1.00000000e+000]\n",
      " [0.00000000e+000 1.00000000e+000]\n",
      " [8.02443708e-046 1.00000000e+000]\n",
      " [0.00000000e+000 1.00000000e+000]\n",
      " [0.00000000e+000 1.00000000e+000]\n",
      " [3.62165446e-272 1.00000000e+000]\n",
      " [0.00000000e+000 1.00000000e+000]\n",
      " [0.00000000e+000 1.00000000e+000]\n",
      " [4.94065646e-324 1.00000000e+000]\n",
      " [0.00000000e+000 1.00000000e+000]\n",
      " [0.00000000e+000 1.00000000e+000]\n",
      " [0.00000000e+000 1.00000000e+000]\n",
      " [0.00000000e+000 1.00000000e+000]\n",
      " [0.00000000e+000 1.00000000e+000]\n",
      " [4.10751288e-171 1.00000000e+000]\n",
      " [0.00000000e+000 1.00000000e+000]\n",
      " [1.60377673e-191 1.00000000e+000]\n",
      " [2.72108649e-282 1.00000000e+000]\n",
      " [0.00000000e+000 1.00000000e+000]\n",
      " [0.00000000e+000 1.00000000e+000]\n",
      " [0.00000000e+000 1.00000000e+000]\n",
      " [0.00000000e+000 1.00000000e+000]\n",
      " [0.00000000e+000 1.00000000e+000]\n",
      " [0.00000000e+000 1.00000000e+000]\n",
      " [0.00000000e+000 1.00000000e+000]\n",
      " [0.00000000e+000 1.00000000e+000]\n",
      " [0.00000000e+000 1.00000000e+000]\n",
      " [0.00000000e+000 1.00000000e+000]\n",
      " [0.00000000e+000 1.00000000e+000]\n",
      " [0.00000000e+000 1.00000000e+000]\n",
      " [0.00000000e+000 1.00000000e+000]\n",
      " [0.00000000e+000 1.00000000e+000]\n",
      " [5.66104763e-294 1.00000000e+000]\n",
      " [0.00000000e+000 1.00000000e+000]\n",
      " [0.00000000e+000 1.00000000e+000]\n",
      " [0.00000000e+000 1.00000000e+000]\n",
      " [0.00000000e+000 1.00000000e+000]\n",
      " [0.00000000e+000 1.00000000e+000]\n",
      " [1.39881671e-213 1.00000000e+000]\n",
      " [3.79652758e-248 1.00000000e+000]\n",
      " [0.00000000e+000 1.00000000e+000]\n",
      " [0.00000000e+000 1.00000000e+000]\n",
      " [0.00000000e+000 1.00000000e+000]\n",
      " [0.00000000e+000 1.00000000e+000]\n",
      " [0.00000000e+000 1.00000000e+000]\n",
      " [0.00000000e+000 1.00000000e+000]\n",
      " [0.00000000e+000 1.00000000e+000]\n",
      " [0.00000000e+000 1.00000000e+000]\n",
      " [0.00000000e+000 1.00000000e+000]\n",
      " [0.00000000e+000 1.00000000e+000]\n",
      " [0.00000000e+000 1.00000000e+000]\n",
      " [0.00000000e+000 1.00000000e+000]\n",
      " [0.00000000e+000 1.00000000e+000]\n",
      " [0.00000000e+000 1.00000000e+000]\n",
      " [0.00000000e+000 1.00000000e+000]\n",
      " [2.25873864e-241 1.00000000e+000]\n",
      " [0.00000000e+000 1.00000000e+000]\n",
      " [0.00000000e+000 1.00000000e+000]\n",
      " [0.00000000e+000 1.00000000e+000]\n",
      " [0.00000000e+000 1.00000000e+000]]\n"
     ]
    }
   ],
   "source": [
    "print(z.u[0][y == \"B\"])"
   ]
  },
  {
   "cell_type": "markdown",
   "metadata": {},
   "source": [
    "Plot each component belonging density."
   ]
  },
  {
   "cell_type": "code",
   "execution_count": 12,
   "metadata": {},
   "outputs": [
    {
     "name": "stderr",
     "output_type": "stream",
     "text": [
      "/home/ludvins/.pyenv/versions/3.6.9/envs/InferPy/lib/python3.6/site-packages/seaborn/distributions.py:283: UserWarning: Data must have variance to compute a kernel density estimate.\n",
      "  warnings.warn(msg, UserWarning)\n"
     ]
    },
    {
     "data": {
      "image/png": "[encoded data removed]",
      "text/plain": [
       "<Figure size 1440x360 with 2 Axes>"
      ]
     },
     "metadata": {},
     "output_type": "display_data"
    }
   ],
   "source": [
    "plot_mixture_distplot([z.u[0][y==\"B\"],z.u[0][y==\"M\"]], [\"Benign\", \"Malign\"], [\"blue\",\"green\"], \n",
    "                      n_components = n_classes)"
   ]
  },
  {
   "cell_type": "markdown",
   "metadata": {},
   "source": [
    "The model has not correctly learned the data, leading to a model where almost every datapoint belongs to the same component. "
   ]
  },
  {
   "cell_type": "markdown",
   "metadata": {},
   "source": [
    "Posterior samples can be generated using `random()`."
   ]
  },
  {
   "cell_type": "code",
   "execution_count": 13,
   "metadata": {},
   "outputs": [
    {
     "name": "stdout",
     "output_type": "stream",
     "text": [
      "[[ 0.0743429   0.00527335  0.03188536 ...  0.22342627 -0.00308106\n",
      "   0.25700646]\n",
      " [-0.20450711  0.09625717  0.23256486 ... -0.14408407 -0.20263355\n",
      "  -0.06837617]\n",
      " [ 0.2995369  -0.2177071  -0.00289559 ... -0.08487693 -0.00755265\n",
      "  -0.10025784]\n",
      " ...\n",
      " [-0.00974389 -0.15705131 -0.01358923 ...  0.05708143  0.20126379\n",
      "  -0.01745082]\n",
      " [-0.3000618  -0.13105361  0.20172223 ... -0.09875572 -0.02680159\n",
      "  -0.04544714]\n",
      " [ 0.22298444  0.16012556  0.03350916 ... -0.01141511 -0.34832426\n",
      "  -0.09770239]]\n"
     ]
    }
   ],
   "source": [
    "print(x.random())"
   ]
  },
  {
   "cell_type": "markdown",
   "metadata": {},
   "source": [
    "## Reduced space"
   ]
  },
  {
   "cell_type": "markdown",
   "metadata": {},
   "source": [
    "We use a variational auto-encoder to reduce the data to a two-dimensional space."
   ]
  },
  {
   "cell_type": "code",
   "execution_count": 14,
   "metadata": {},
   "outputs": [
    {
     "name": "stdout",
     "output_type": "stream",
     "text": [
      "\n",
      " 0 epochs\t 504412128.0....................\n",
      " 200 epochs\t 6163732.0....................\n",
      " 400 epochs\t 1965005.875....................\n",
      " 600 epochs\t 1292843.875....................\n",
      " 800 epochs\t 911255.0....................\n",
      " 1000 epochs\t 731195.25....................\n",
      " 1200 epochs\t 618658.75....................\n",
      " 1400 epochs\t 551460.0625....................\n",
      " 1600 epochs\t 781488.9375....................\n",
      " 1800 epochs\t 480570.8125....................\n",
      " 2000 epochs\t 410057.6875....................\n",
      " 2200 epochs\t 377567.4375....................\n",
      " 2400 epochs\t 348210.03125....................\n",
      " 2600 epochs\t 329420.78125....................\n",
      " 2800 epochs\t 312858.1875....................\n",
      " 3000 epochs\t 309560.71875....................\n",
      " 3200 epochs\t 297279.78125....................\n",
      " 3400 epochs\t 300119.59375....................\n",
      " 3600 epochs\t 372105.65625....................\n",
      " 3800 epochs\t 260840.1875...................."
     ]
    }
   ],
   "source": [
    "vae_model = vae(2, 100, dim)\n",
    "q_vae = Q_vae(2, 100, dim)\n",
    "\n",
    "optimizer = tf.train.AdamOptimizer(0.01)\n",
    "VI_vae = inf.inference.VI(q_vae, optimizer=optimizer, epochs=4000)\n",
    "vae_model.fit({\"x\": X}, VI_vae)\n",
    "data = vae_model.posterior(\"z\", data={\"x\": X}).sample()"
   ]
  },
  {
   "cell_type": "markdown",
   "metadata": {},
   "source": [
    "We define the new mixture model and initialize training."
   ]
  },
  {
   "cell_type": "code",
   "execution_count": 15,
   "metadata": {},
   "outputs": [
    {
     "name": "stdout",
     "output_type": "stream",
     "text": [
      "Iteration 1: loglike=-4.193984e+03 (0.008 seconds)\n",
      "Iteration 2: loglike=-3.848058e+03 (0.006 seconds)\n",
      "Iteration 3: loglike=-3.788126e+03 (0.006 seconds)\n",
      "Iteration 4: loglike=-3.766425e+03 (0.006 seconds)\n",
      "Iteration 5: loglike=-3.753604e+03 (0.006 seconds)\n",
      "Iteration 6: loglike=-3.746409e+03 (0.006 seconds)\n",
      "Iteration 7: loglike=-3.742745e+03 (0.008 seconds)\n",
      "Iteration 8: loglike=-3.740886e+03 (0.007 seconds)\n",
      "Iteration 9: loglike=-3.739867e+03 (0.006 seconds)\n",
      "Iteration 10: loglike=-3.739268e+03 (0.006 seconds)\n",
      "Iteration 11: loglike=-3.738899e+03 (0.006 seconds)\n",
      "Iteration 12: loglike=-3.738667e+03 (0.006 seconds)\n",
      "Iteration 13: loglike=-3.738518e+03 (0.011 seconds)\n",
      "Iteration 14: loglike=-3.738423e+03 (0.008 seconds)\n",
      "Iteration 15: loglike=-3.738362e+03 (0.009 seconds)\n",
      "Iteration 16: loglike=-3.738322e+03 (0.011 seconds)\n",
      "Iteration 17: loglike=-3.738297e+03 (0.010 seconds)\n",
      "Converged at iteration 17.\n"
     ]
    }
   ],
   "source": [
    "x, z, pi, mu, Lambda = GaussianMixture(dim = data.shape[1], \n",
    "                                       n_components = len(y.unique()), \n",
    "                                       n_samples = X.shape[0])\n",
    "x.observe(data)\n",
    "Q = VB(x, mu, z, Lambda, pi)\n",
    "z.initialize_from_random()\n",
    "Q.update(repeat=1000)"
   ]
  },
  {
   "cell_type": "markdown",
   "metadata": {},
   "source": [
    "In this case, `pi` has correctly learn each component probability."
   ]
  },
  {
   "cell_type": "code",
   "execution_count": 16,
   "metadata": {},
   "outputs": [
    {
     "name": "stdout",
     "output_type": "stream",
     "text": [
      " ~ Dirichlet(alpha)\n",
      "  alpha =\n",
      "[352.82241911 217.17758089]\n"
     ]
    }
   ],
   "source": [
    "print(pi)"
   ]
  },
  {
   "cell_type": "markdown",
   "metadata": {},
   "source": [
    "`BayesPy` has several plotting functions, among them, `gaussian_mixture_2d` should plot all datapoints and Gaussian ellipses. For some reason, it fails to plot both ellipses."
   ]
  },
  {
   "cell_type": "code",
   "execution_count": 17,
   "metadata": {},
   "outputs": [
    {
     "data": {
      "image/png": "[encoded data removed]",
      "text/plain": [
       "<Figure size 432x288 with 1 Axes>"
      ]
     },
     "metadata": {},
     "output_type": "display_data"
    }
   ],
   "source": [
    "bpplt.gaussian_mixture_2d(x, alpha=pi, scale=5)\n",
    "bpplt.pyplot.show()"
   ]
  },
  {
   "cell_type": "markdown",
   "metadata": {},
   "source": [
    "In this case, component belonging densities can be shown. It can be seen that the benign class is strongly modeled by the first component, whereas the malign class is modeled by the second."
   ]
  },
  {
   "cell_type": "code",
   "execution_count": 18,
   "metadata": {},
   "outputs": [
    {
     "data": {
      "image/png": "[encoded data removed]",
      "text/plain": [
       "<Figure size 1440x360 with 2 Axes>"
      ]
     },
     "metadata": {},
     "output_type": "display_data"
    }
   ],
   "source": [
    "plot_mixture_distplot([z.u[0][y==\"B\"],z.u[0][y==\"M\"]], [\"Benign\", \"Malign\"], [\"blue\",\"green\"], \n",
    "                      n_components = n_classes)"
   ]
  }
 ],
 "metadata": {
  "kernelspec": {
   "display_name": "TFG py3.6",
   "language": "python",
   "name": "tfg-py36"
  },
  "language_info": {
   "codemirror_mode": {
    "name": "ipython",
    "version": 3
   },
   "file_extension": ".py",
   "mimetype": "text/x-python",
   "name": "python",
   "nbconvert_exporter": "python",
   "pygments_lexer": "ipython3",
   "version": "3.6.9"
  },
  "toc": {
   "base_numbering": 1,
   "nav_menu": {},
   "number_sections": true,
   "sideBar": true,
   "skip_h1_title": false,
   "title_cell": "Table of Contents",
   "title_sidebar": "Contents",
   "toc_cell": false,
   "toc_position": {},
   "toc_section_display": true,
   "toc_window_display": true
  }
 },
 "nbformat": 4,
 "nbformat_minor": 4
}
