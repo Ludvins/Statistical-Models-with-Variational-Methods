{
 "cells": [
  {
   "cell_type": "markdown",
   "metadata": {},
   "source": [
    "# Database"
   ]
  },
  {
   "cell_type": "code",
   "execution_count": 1,
   "metadata": {},
   "outputs": [
    {
     "name": "stderr",
     "output_type": "stream",
     "text": [
      "Using TensorFlow backend.\n"
     ]
    }
   ],
   "source": [
    "# Imports\n",
    "from functions import *\n",
    "from models import *\n",
    "from bayespy import nodes\n",
    "from bayespy.inference import VB\n",
    "# seed\n",
    "set_seed(2020)"
   ]
  },
  {
   "cell_type": "markdown",
   "metadata": {},
   "source": [
    "Load and prepare Breast Cancer database"
   ]
  },
  {
   "cell_type": "code",
   "execution_count": 2,
   "metadata": {},
   "outputs": [],
   "source": [
    "# Column names\n",
    "col_names = [\"id\",\"diagnosis\",\"radius_mean\",\"texture_mean\",\"perimeter_mean\",\"area_mean\",\"smoothness_mean\",\"compactness_mean\",\"concavity_mean\",\"concave points_mean\",\"symmetry_mean\",\"fractal_dimension_mean\",\"radius_se\",\"texture_se\",\"perimeter_se\",\"area_se\",\"smoothness_se\",\"compactness_se\",\"concavity_se\",\"concave points_se\",\"symmetry_se\",\"fractal_dimension_se\",\"radius_worst\",\"texture_worst\",\"perimeter_worst\",\"area_worst\",\"smoothness_worst\",\"compactness_worst\",\"concavity_worst\",\"concave points_worst\",\"symmetry_worst\",\"fractal_dimension_worst\"]\n",
    "# Reading dataset\n",
    "dataset = pd.read_csv('../dataset/wdbc.data', header=None, names= col_names)\n",
    "X = dataset.drop(['id','diagnosis'], axis=1)\n",
    "y = dataset['diagnosis']"
   ]
  },
  {
   "cell_type": "markdown",
   "metadata": {},
   "source": [
    "# Constants"
   ]
  },
  {
   "cell_type": "code",
   "execution_count": 3,
   "metadata": {},
   "outputs": [],
   "source": [
    "# Ammount of samples\n",
    "n_samples = X.shape[0]\n",
    "# Observed space dimensionality\n",
    "dim = X.shape[1]\n",
    "# Ammount of classes\n",
    "n_classes = len(y.unique())"
   ]
  },
  {
   "cell_type": "markdown",
   "metadata": {},
   "source": [
    "# BayesPy"
   ]
  },
  {
   "cell_type": "markdown",
   "metadata": {},
   "source": [
    "## Model definition"
   ]
  },
  {
   "cell_type": "markdown",
   "metadata": {},
   "source": [
    "Mean and precision distribucion defined as\n",
    "$$\n",
    "\\mu \\sim \\mathcal{N}_{dim}(0,I) \\quad \\text{and} \\quad \\Lambda \\sim \\mathcal{W}(dim,I_{dim}).\n",
    "$$"
   ]
  },
  {
   "cell_type": "markdown",
   "metadata": {},
   "source": [
    "Mixture weights follow a Dirichlet distribution\n",
    "$$\n",
    "    \\pi \\sim \\text{Symmetric-Dirichlet}\\Big(\\frac{1}{n\\_components}\\Big).\n",
    "$$"
   ]
  },
  {
   "cell_type": "markdown",
   "metadata": {},
   "source": [
    "The variable modeling the component assignation follows a categorical distribution as\n",
    "$$\n",
    "    Z_n \\sim \\text{Categorical}(\\pi).\n",
    "$$"
   ]
  },
  {
   "cell_type": "code",
   "execution_count": 4,
   "metadata": {},
   "outputs": [],
   "source": [
    "# Define a functoin that returns all the variables of the model.\n",
    "def GaussianMixture(dim, n_components, n_samples):\n",
    "    Lambda = nodes.Wishart(dim, np.identity(dim), plates=(n_components,))\n",
    "    mu = nodes.Gaussian(np.zeros(dim), np.identity(dim), plates=(n_components,))\n",
    "    pi = nodes.Dirichlet(np.ones(n_components)/n_components)\n",
    "    z = nodes.Categorical(pi, plates=(n_samples,))\n",
    "    x = nodes.Mixture(z, nodes.Gaussian, mu, Lambda)\n",
    "\n",
    "    return x, z, pi, mu, Lambda"
   ]
  },
  {
   "cell_type": "markdown",
   "metadata": {},
   "source": [
    "## Breast Cancer Diagnosys"
   ]
  },
  {
   "cell_type": "markdown",
   "metadata": {},
   "source": [
    "Define the new variables"
   ]
  },
  {
   "cell_type": "code",
   "execution_count": 5,
   "metadata": {},
   "outputs": [],
   "source": [
    "x, z, pi, mu, Lambda = GaussianMixture(dim = X.shape[1], \n",
    "                                       n_components = len(y.unique()), \n",
    "                                       n_samples = X.shape[0])"
   ]
  },
  {
   "cell_type": "markdown",
   "metadata": {},
   "source": [
    "Observe the given dataset, `Pandas' dataframe` can't be used. They raise a dimensionality error."
   ]
  },
  {
   "cell_type": "code",
   "execution_count": 6,
   "metadata": {},
   "outputs": [],
   "source": [
    "x.observe(X.to_numpy())"
   ]
  },
  {
   "cell_type": "markdown",
   "metadata": {},
   "source": [
    "Create the inference object."
   ]
  },
  {
   "cell_type": "code",
   "execution_count": 7,
   "metadata": {},
   "outputs": [],
   "source": [
    "Q = VB(x, mu, z, Lambda, pi)"
   ]
  },
  {
   "cell_type": "markdown",
   "metadata": {},
   "source": [
    "Initialize `z` using random values as letting the default initialization (prior) leads to 4 simmilar normal distributions."
   ]
  },
  {
   "cell_type": "code",
   "execution_count": 8,
   "metadata": {},
   "outputs": [],
   "source": [
    "z.initialize_from_random()"
   ]
  },
  {
   "cell_type": "markdown",
   "metadata": {},
   "source": [
    "Start learning."
   ]
  },
  {
   "cell_type": "code",
   "execution_count": 9,
   "metadata": {},
   "outputs": [
    {
     "name": "stdout",
     "output_type": "stream",
     "text": [
      "Iteration 1: loglike=-1.229165e+06 (0.049 seconds)\n",
      "Iteration 2: loglike=-6.573372e+03 (0.048 seconds)\n",
      "Iteration 3: loglike=-4.811194e+03 (0.051 seconds)\n",
      "Iteration 4: loglike=-4.195404e+03 (0.044 seconds)\n",
      "Iteration 5: loglike=-3.934526e+03 (0.042 seconds)\n",
      "Iteration 6: loglike=-3.685506e+03 (0.047 seconds)\n",
      "Iteration 7: loglike=-3.414732e+03 (0.043 seconds)\n",
      "Iteration 8: loglike=-3.123762e+03 (0.041 seconds)\n",
      "Iteration 9: loglike=-2.913217e+03 (0.041 seconds)\n",
      "Iteration 10: loglike=-2.764515e+03 (0.041 seconds)\n",
      "Iteration 11: loglike=-2.630799e+03 (0.044 seconds)\n",
      "Iteration 12: loglike=-2.523561e+03 (0.045 seconds)\n",
      "Iteration 13: loglike=-2.456218e+03 (0.041 seconds)\n",
      "Iteration 14: loglike=-2.414676e+03 (0.043 seconds)\n",
      "Iteration 15: loglike=-2.393060e+03 (0.042 seconds)\n",
      "Iteration 16: loglike=-2.365463e+03 (0.044 seconds)\n",
      "Iteration 17: loglike=-2.321662e+03 (0.045 seconds)\n",
      "Iteration 18: loglike=-2.309745e+03 (0.042 seconds)\n",
      "Iteration 19: loglike=-2.284863e+03 (0.041 seconds)\n",
      "Iteration 20: loglike=-2.236125e+03 (0.042 seconds)\n",
      "Iteration 21: loglike=-2.132205e+03 (0.046 seconds)\n",
      "Iteration 22: loglike=-2.068924e+03 (0.054 seconds)\n",
      "Iteration 23: loglike=-2.061257e+03 (0.045 seconds)\n",
      "Iteration 24: loglike=-2.058947e+03 (0.044 seconds)\n",
      "Iteration 25: loglike=-2.056895e+03 (0.043 seconds)\n",
      "Iteration 26: loglike=-2.055032e+03 (0.051 seconds)\n",
      "Iteration 27: loglike=-2.053330e+03 (0.043 seconds)\n",
      "Iteration 28: loglike=-2.051768e+03 (0.043 seconds)\n",
      "Iteration 29: loglike=-2.050328e+03 (0.043 seconds)\n",
      "Iteration 30: loglike=-2.048992e+03 (0.043 seconds)\n",
      "Iteration 31: loglike=-2.047750e+03 (0.048 seconds)\n",
      "Iteration 32: loglike=-2.046588e+03 (0.046 seconds)\n",
      "Iteration 33: loglike=-2.045498e+03 (0.044 seconds)\n",
      "Iteration 34: loglike=-2.044471e+03 (0.045 seconds)\n",
      "Iteration 35: loglike=-2.043500e+03 (0.044 seconds)\n",
      "Iteration 36: loglike=-2.042579e+03 (0.049 seconds)\n",
      "Iteration 37: loglike=-2.041702e+03 (0.044 seconds)\n",
      "Iteration 38: loglike=-2.040865e+03 (0.043 seconds)\n",
      "Iteration 39: loglike=-2.040063e+03 (0.042 seconds)\n",
      "Iteration 40: loglike=-2.039293e+03 (0.043 seconds)\n",
      "Iteration 41: loglike=-2.038552e+03 (0.044 seconds)\n",
      "Iteration 42: loglike=-2.037837e+03 (0.047 seconds)\n",
      "Iteration 43: loglike=-2.037146e+03 (0.045 seconds)\n",
      "Iteration 44: loglike=-2.036476e+03 (0.044 seconds)\n",
      "Iteration 45: loglike=-2.035827e+03 (0.045 seconds)\n",
      "Iteration 46: loglike=-2.035196e+03 (0.053 seconds)\n",
      "Iteration 47: loglike=-2.034583e+03 (0.044 seconds)\n",
      "Iteration 48: loglike=-2.033985e+03 (0.044 seconds)\n",
      "Iteration 49: loglike=-2.033403e+03 (0.045 seconds)\n",
      "Iteration 50: loglike=-2.032834e+03 (0.044 seconds)\n",
      "Iteration 51: loglike=-2.032278e+03 (0.048 seconds)\n",
      "Iteration 52: loglike=-2.031735e+03 (0.046 seconds)\n",
      "Iteration 53: loglike=-2.031204e+03 (0.045 seconds)\n",
      "Iteration 54: loglike=-2.030684e+03 (0.044 seconds)\n",
      "Iteration 55: loglike=-2.030175e+03 (0.044 seconds)\n",
      "Iteration 56: loglike=-2.029676e+03 (0.051 seconds)\n",
      "Iteration 57: loglike=-2.029187e+03 (0.043 seconds)\n",
      "Iteration 58: loglike=-2.028707e+03 (0.044 seconds)\n",
      "Iteration 59: loglike=-2.028237e+03 (0.043 seconds)\n",
      "Iteration 60: loglike=-2.027775e+03 (0.044 seconds)\n",
      "Iteration 61: loglike=-2.027322e+03 (0.045 seconds)\n",
      "Iteration 62: loglike=-2.026877e+03 (0.046 seconds)\n",
      "Iteration 63: loglike=-2.026440e+03 (0.044 seconds)\n",
      "Iteration 64: loglike=-2.026011e+03 (0.043 seconds)\n",
      "Iteration 65: loglike=-2.025590e+03 (0.042 seconds)\n",
      "Iteration 66: loglike=-2.025176e+03 (0.047 seconds)\n",
      "Iteration 67: loglike=-2.024769e+03 (0.045 seconds)\n",
      "Iteration 68: loglike=-2.024369e+03 (0.043 seconds)\n",
      "Iteration 69: loglike=-2.023977e+03 (0.045 seconds)\n",
      "Iteration 70: loglike=-2.023591e+03 (0.046 seconds)\n",
      "Iteration 71: loglike=-2.023211e+03 (0.053 seconds)\n",
      "Iteration 72: loglike=-2.022838e+03 (0.044 seconds)\n",
      "Iteration 73: loglike=-2.022472e+03 (0.045 seconds)\n",
      "Iteration 74: loglike=-2.022111e+03 (0.044 seconds)\n",
      "Iteration 75: loglike=-2.021757e+03 (0.044 seconds)\n",
      "Iteration 76: loglike=-2.021409e+03 (0.053 seconds)\n",
      "Iteration 77: loglike=-2.021066e+03 (0.044 seconds)\n",
      "Iteration 78: loglike=-2.020729e+03 (0.046 seconds)\n",
      "Iteration 79: loglike=-2.020398e+03 (0.044 seconds)\n",
      "Iteration 80: loglike=-2.020072e+03 (0.044 seconds)\n",
      "Iteration 81: loglike=-2.019752e+03 (0.052 seconds)\n",
      "Iteration 82: loglike=-2.019437e+03 (0.046 seconds)\n",
      "Iteration 83: loglike=-2.019127e+03 (0.045 seconds)\n",
      "Iteration 84: loglike=-2.018823e+03 (0.045 seconds)\n",
      "Iteration 85: loglike=-2.018523e+03 (0.046 seconds)\n",
      "Iteration 86: loglike=-2.018228e+03 (0.051 seconds)\n",
      "Iteration 87: loglike=-2.017938e+03 (0.046 seconds)\n",
      "Iteration 88: loglike=-2.017653e+03 (0.044 seconds)\n",
      "Iteration 89: loglike=-2.017373e+03 (0.044 seconds)\n",
      "Iteration 90: loglike=-2.017097e+03 (0.047 seconds)\n",
      "Iteration 91: loglike=-2.016825e+03 (0.051 seconds)\n",
      "Iteration 92: loglike=-2.016558e+03 (0.050 seconds)\n",
      "Iteration 93: loglike=-2.016296e+03 (0.046 seconds)\n",
      "Iteration 94: loglike=-2.016037e+03 (0.045 seconds)\n",
      "Iteration 95: loglike=-2.015783e+03 (0.044 seconds)\n",
      "Iteration 96: loglike=-2.015533e+03 (0.051 seconds)\n",
      "Iteration 97: loglike=-2.015287e+03 (0.044 seconds)\n",
      "Iteration 98: loglike=-2.015045e+03 (0.044 seconds)\n",
      "Iteration 99: loglike=-2.014807e+03 (0.044 seconds)\n",
      "Iteration 100: loglike=-2.014573e+03 (0.044 seconds)\n",
      "Iteration 101: loglike=-2.014343e+03 (0.053 seconds)\n",
      "Iteration 102: loglike=-2.014116e+03 (0.046 seconds)\n",
      "Iteration 103: loglike=-2.013893e+03 (0.044 seconds)\n",
      "Iteration 104: loglike=-2.013673e+03 (0.044 seconds)\n",
      "Iteration 105: loglike=-2.013457e+03 (0.044 seconds)\n",
      "Iteration 106: loglike=-2.013245e+03 (0.051 seconds)\n",
      "Iteration 107: loglike=-2.013035e+03 (0.045 seconds)\n",
      "Iteration 108: loglike=-2.012830e+03 (0.044 seconds)\n",
      "Iteration 109: loglike=-2.012627e+03 (0.046 seconds)\n",
      "Iteration 110: loglike=-2.012428e+03 (0.046 seconds)\n",
      "Iteration 111: loglike=-2.012232e+03 (0.053 seconds)\n",
      "Iteration 112: loglike=-2.012039e+03 (0.046 seconds)\n",
      "Iteration 113: loglike=-2.011849e+03 (0.057 seconds)\n",
      "Iteration 114: loglike=-2.011662e+03 (0.049 seconds)\n",
      "Iteration 115: loglike=-2.011478e+03 (0.050 seconds)\n",
      "Iteration 116: loglike=-2.011297e+03 (0.051 seconds)\n",
      "Iteration 117: loglike=-2.011119e+03 (0.046 seconds)\n",
      "Iteration 118: loglike=-2.010943e+03 (0.045 seconds)\n",
      "Iteration 119: loglike=-2.010771e+03 (0.047 seconds)\n",
      "Iteration 120: loglike=-2.010601e+03 (0.045 seconds)\n",
      "Iteration 121: loglike=-2.010434e+03 (0.054 seconds)\n",
      "Iteration 122: loglike=-2.010269e+03 (0.045 seconds)\n",
      "Iteration 123: loglike=-2.010107e+03 (0.044 seconds)\n",
      "Iteration 124: loglike=-2.009948e+03 (0.044 seconds)\n",
      "Iteration 125: loglike=-2.009791e+03 (0.044 seconds)\n",
      "Iteration 126: loglike=-2.009636e+03 (0.050 seconds)\n",
      "Iteration 127: loglike=-2.009484e+03 (0.044 seconds)\n",
      "Iteration 128: loglike=-2.009334e+03 (0.044 seconds)\n",
      "Iteration 129: loglike=-2.009187e+03 (0.045 seconds)\n",
      "Iteration 130: loglike=-2.009042e+03 (0.048 seconds)\n",
      "Iteration 131: loglike=-2.008899e+03 (0.052 seconds)\n",
      "Iteration 132: loglike=-2.008758e+03 (0.047 seconds)\n",
      "Iteration 133: loglike=-2.008620e+03 (0.046 seconds)\n",
      "Iteration 134: loglike=-2.008483e+03 (0.046 seconds)\n",
      "Iteration 135: loglike=-2.008349e+03 (0.047 seconds)\n",
      "Iteration 136: loglike=-2.008217e+03 (0.051 seconds)\n",
      "Iteration 137: loglike=-2.008087e+03 (0.060 seconds)\n",
      "Iteration 138: loglike=-2.007959e+03 (0.060 seconds)\n",
      "Iteration 139: loglike=-2.007833e+03 (0.045 seconds)\n",
      "Iteration 140: loglike=-2.007708e+03 (0.047 seconds)\n",
      "Iteration 141: loglike=-2.007586e+03 (0.046 seconds)\n",
      "Iteration 142: loglike=-2.007466e+03 (0.045 seconds)\n",
      "Iteration 143: loglike=-2.007347e+03 (0.045 seconds)\n",
      "Iteration 144: loglike=-2.007230e+03 (0.044 seconds)\n",
      "Iteration 145: loglike=-2.007115e+03 (0.045 seconds)\n",
      "Iteration 146: loglike=-2.007002e+03 (0.045 seconds)\n",
      "Iteration 147: loglike=-2.006890e+03 (0.044 seconds)\n",
      "Iteration 148: loglike=-2.006780e+03 (0.043 seconds)\n",
      "Iteration 149: loglike=-2.006672e+03 (0.043 seconds)\n",
      "Iteration 150: loglike=-2.006566e+03 (0.051 seconds)\n",
      "Iteration 151: loglike=-2.006461e+03 (0.044 seconds)\n",
      "Iteration 152: loglike=-2.006357e+03 (0.044 seconds)\n",
      "Iteration 153: loglike=-2.006256e+03 (0.044 seconds)\n",
      "Iteration 154: loglike=-2.006155e+03 (0.043 seconds)\n",
      "Iteration 155: loglike=-2.006056e+03 (0.047 seconds)\n",
      "Iteration 156: loglike=-2.005959e+03 (0.044 seconds)\n",
      "Iteration 157: loglike=-2.005863e+03 (0.043 seconds)\n",
      "Iteration 158: loglike=-2.005769e+03 (0.042 seconds)\n",
      "Iteration 159: loglike=-2.005676e+03 (0.044 seconds)\n"
     ]
    },
    {
     "name": "stdout",
     "output_type": "stream",
     "text": [
      "Iteration 160: loglike=-2.005584e+03 (0.045 seconds)\n",
      "Iteration 161: loglike=-2.005494e+03 (0.048 seconds)\n",
      "Iteration 162: loglike=-2.005405e+03 (0.043 seconds)\n",
      "Iteration 163: loglike=-2.005317e+03 (0.045 seconds)\n",
      "Iteration 164: loglike=-2.005231e+03 (0.045 seconds)\n",
      "Iteration 165: loglike=-2.005146e+03 (0.048 seconds)\n",
      "Iteration 166: loglike=-2.005062e+03 (0.044 seconds)\n",
      "Iteration 167: loglike=-2.004980e+03 (0.045 seconds)\n",
      "Iteration 168: loglike=-2.004899e+03 (0.043 seconds)\n",
      "Iteration 169: loglike=-2.004818e+03 (0.044 seconds)\n",
      "Iteration 170: loglike=-2.004739e+03 (0.046 seconds)\n",
      "Iteration 171: loglike=-2.004662e+03 (0.047 seconds)\n",
      "Iteration 172: loglike=-2.004585e+03 (0.044 seconds)\n",
      "Iteration 173: loglike=-2.004510e+03 (0.043 seconds)\n",
      "Iteration 174: loglike=-2.004435e+03 (0.043 seconds)\n",
      "Iteration 175: loglike=-2.004362e+03 (0.047 seconds)\n",
      "Iteration 176: loglike=-2.004289e+03 (0.044 seconds)\n",
      "Iteration 177: loglike=-2.004218e+03 (0.047 seconds)\n",
      "Iteration 178: loglike=-2.004148e+03 (0.043 seconds)\n",
      "Iteration 179: loglike=-2.004079e+03 (0.044 seconds)\n",
      "Iteration 180: loglike=-2.004011e+03 (0.048 seconds)\n",
      "Iteration 181: loglike=-2.003944e+03 (0.045 seconds)\n",
      "Iteration 182: loglike=-2.003877e+03 (0.043 seconds)\n",
      "Iteration 183: loglike=-2.003812e+03 (0.043 seconds)\n",
      "Iteration 184: loglike=-2.003748e+03 (0.045 seconds)\n",
      "Iteration 185: loglike=-2.003684e+03 (0.047 seconds)\n",
      "Iteration 186: loglike=-2.003622e+03 (0.044 seconds)\n",
      "Iteration 187: loglike=-2.003560e+03 (0.044 seconds)\n",
      "Iteration 188: loglike=-2.003500e+03 (0.043 seconds)\n",
      "Iteration 189: loglike=-2.003440e+03 (0.044 seconds)\n",
      "Iteration 190: loglike=-2.003381e+03 (0.046 seconds)\n",
      "Iteration 191: loglike=-2.003323e+03 (0.045 seconds)\n",
      "Iteration 192: loglike=-2.003265e+03 (0.043 seconds)\n",
      "Iteration 193: loglike=-2.003209e+03 (0.045 seconds)\n",
      "Iteration 194: loglike=-2.003153e+03 (0.045 seconds)\n",
      "Iteration 195: loglike=-2.003098e+03 (0.046 seconds)\n",
      "Iteration 196: loglike=-2.003044e+03 (0.043 seconds)\n",
      "Iteration 197: loglike=-2.002991e+03 (0.043 seconds)\n",
      "Iteration 198: loglike=-2.002938e+03 (0.043 seconds)\n",
      "Iteration 199: loglike=-2.002886e+03 (0.043 seconds)\n",
      "Iteration 200: loglike=-2.002835e+03 (0.047 seconds)\n",
      "Iteration 201: loglike=-2.002784e+03 (0.043 seconds)\n",
      "Iteration 202: loglike=-2.002735e+03 (0.046 seconds)\n",
      "Iteration 203: loglike=-2.002686e+03 (0.045 seconds)\n",
      "Iteration 204: loglike=-2.002637e+03 (0.044 seconds)\n",
      "Iteration 205: loglike=-2.002590e+03 (0.046 seconds)\n",
      "Iteration 206: loglike=-2.002543e+03 (0.043 seconds)\n",
      "Iteration 207: loglike=-2.002496e+03 (0.043 seconds)\n",
      "Iteration 208: loglike=-2.002451e+03 (0.045 seconds)\n",
      "Iteration 209: loglike=-2.002405e+03 (0.046 seconds)\n",
      "Iteration 210: loglike=-2.002361e+03 (0.048 seconds)\n",
      "Iteration 211: loglike=-2.002317e+03 (0.045 seconds)\n",
      "Iteration 212: loglike=-2.002274e+03 (0.043 seconds)\n",
      "Iteration 213: loglike=-2.002231e+03 (0.045 seconds)\n",
      "Iteration 214: loglike=-2.002189e+03 (0.043 seconds)\n",
      "Iteration 215: loglike=-2.002148e+03 (0.045 seconds)\n",
      "Iteration 216: loglike=-2.002107e+03 (0.044 seconds)\n",
      "Iteration 217: loglike=-2.002066e+03 (0.043 seconds)\n",
      "Iteration 218: loglike=-2.002027e+03 (0.043 seconds)\n",
      "Iteration 219: loglike=-2.001987e+03 (0.044 seconds)\n",
      "Iteration 220: loglike=-2.001949e+03 (0.045 seconds)\n",
      "Iteration 221: loglike=-2.001910e+03 (0.047 seconds)\n",
      "Iteration 222: loglike=-2.001873e+03 (0.044 seconds)\n",
      "Iteration 223: loglike=-2.001836e+03 (0.043 seconds)\n",
      "Iteration 224: loglike=-2.001799e+03 (0.046 seconds)\n",
      "Iteration 225: loglike=-2.001763e+03 (0.050 seconds)\n",
      "Iteration 226: loglike=-2.001727e+03 (0.044 seconds)\n",
      "Iteration 227: loglike=-2.001692e+03 (0.046 seconds)\n",
      "Iteration 228: loglike=-2.001657e+03 (0.045 seconds)\n",
      "Iteration 229: loglike=-2.001623e+03 (0.046 seconds)\n",
      "Iteration 230: loglike=-2.001589e+03 (0.048 seconds)\n",
      "Iteration 231: loglike=-2.001556e+03 (0.045 seconds)\n",
      "Iteration 232: loglike=-2.001523e+03 (0.051 seconds)\n",
      "Iteration 233: loglike=-2.001490e+03 (0.046 seconds)\n",
      "Iteration 234: loglike=-2.001458e+03 (0.044 seconds)\n",
      "Iteration 235: loglike=-2.001427e+03 (0.044 seconds)\n",
      "Iteration 236: loglike=-2.001396e+03 (0.044 seconds)\n",
      "Iteration 237: loglike=-2.001365e+03 (0.043 seconds)\n",
      "Iteration 238: loglike=-2.001334e+03 (0.042 seconds)\n",
      "Iteration 239: loglike=-2.001304e+03 (0.044 seconds)\n",
      "Iteration 240: loglike=-2.001275e+03 (0.044 seconds)\n",
      "Iteration 241: loglike=-2.001246e+03 (0.043 seconds)\n",
      "Iteration 242: loglike=-2.001217e+03 (0.043 seconds)\n",
      "Iteration 243: loglike=-2.001189e+03 (0.042 seconds)\n",
      "Iteration 244: loglike=-2.001161e+03 (0.043 seconds)\n",
      "Iteration 245: loglike=-2.001133e+03 (0.046 seconds)\n",
      "Iteration 246: loglike=-2.001106e+03 (0.045 seconds)\n",
      "Iteration 247: loglike=-2.001079e+03 (0.043 seconds)\n",
      "Iteration 248: loglike=-2.001052e+03 (0.042 seconds)\n",
      "Iteration 249: loglike=-2.001026e+03 (0.042 seconds)\n",
      "Iteration 250: loglike=-2.001000e+03 (0.043 seconds)\n",
      "Iteration 251: loglike=-2.000974e+03 (0.044 seconds)\n",
      "Iteration 252: loglike=-2.000949e+03 (0.044 seconds)\n",
      "Iteration 253: loglike=-2.000924e+03 (0.043 seconds)\n",
      "Iteration 254: loglike=-2.000900e+03 (0.043 seconds)\n",
      "Iteration 255: loglike=-2.000875e+03 (0.044 seconds)\n",
      "Iteration 256: loglike=-2.000851e+03 (0.048 seconds)\n",
      "Iteration 257: loglike=-2.000828e+03 (0.047 seconds)\n",
      "Iteration 258: loglike=-2.000804e+03 (0.044 seconds)\n",
      "Iteration 259: loglike=-2.000781e+03 (0.043 seconds)\n",
      "Iteration 260: loglike=-2.000759e+03 (0.045 seconds)\n",
      "Iteration 261: loglike=-2.000736e+03 (0.045 seconds)\n",
      "Iteration 262: loglike=-2.000714e+03 (0.044 seconds)\n",
      "Iteration 263: loglike=-2.000692e+03 (0.044 seconds)\n",
      "Iteration 264: loglike=-2.000671e+03 (0.042 seconds)\n",
      "Iteration 265: loglike=-2.000649e+03 (0.045 seconds)\n",
      "Iteration 266: loglike=-2.000628e+03 (0.043 seconds)\n",
      "Iteration 267: loglike=-2.000607e+03 (0.043 seconds)\n",
      "Iteration 268: loglike=-2.000587e+03 (0.043 seconds)\n",
      "Iteration 269: loglike=-2.000567e+03 (0.043 seconds)\n",
      "Iteration 270: loglike=-2.000547e+03 (0.044 seconds)\n",
      "Converged at iteration 270.\n"
     ]
    }
   ],
   "source": [
    "Q.update(repeat=1000)"
   ]
  },
  {
   "cell_type": "markdown",
   "metadata": {},
   "source": [
    "Each component probability may be inspected using `pi`."
   ]
  },
  {
   "cell_type": "code",
   "execution_count": 10,
   "metadata": {},
   "outputs": [
    {
     "name": "stdout",
     "output_type": "stream",
     "text": [
      " ~ Dirichlet(alpha)\n",
      "  alpha =\n",
      "[  6.5 563.5]\n"
     ]
    }
   ],
   "source": [
    "print(pi)"
   ]
  },
  {
   "cell_type": "markdown",
   "metadata": {},
   "source": [
    "`Z` models each datapoint belongint to each component and its first moment equals this exact probability."
   ]
  },
  {
   "cell_type": "code",
   "execution_count": 49,
   "metadata": {},
   "outputs": [
    {
     "name": "stdout",
     "output_type": "stream",
     "text": [
      "[[9.62479862e-01 3.75201375e-02]\n",
      " [9.78739533e-01 2.12604671e-02]\n",
      " [9.46148481e-01 5.38515194e-02]\n",
      " [6.58789569e-01 3.41210431e-01]\n",
      " [9.02383248e-01 9.76167517e-02]\n",
      " [9.61289267e-01 3.87107333e-02]\n",
      " [9.67333731e-01 3.26662685e-02]\n",
      " [9.80165118e-01 1.98348824e-02]\n",
      " [9.58803055e-01 4.11969450e-02]\n",
      " [9.80474911e-01 1.95250894e-02]\n",
      " [9.78024326e-01 2.19756737e-02]\n",
      " [9.76935958e-01 2.30640424e-02]\n",
      " [9.25782650e-01 7.42173495e-02]\n",
      " [9.64446810e-01 3.55531903e-02]\n",
      " [9.20447351e-01 7.95526493e-02]\n",
      " [9.46709681e-01 5.32903187e-02]\n",
      " [9.51021140e-01 4.89788603e-02]\n",
      " [9.77642864e-01 2.23571361e-02]\n",
      " [9.39275359e-01 6.07246405e-02]\n",
      " [9.33956407e-01 6.60435935e-02]\n",
      " [9.32347324e-01 6.76526762e-02]\n",
      " [9.58207945e-01 4.17920554e-02]\n",
      " [7.79044262e-01 2.20955738e-01]\n",
      " [9.78466526e-01 2.15334743e-02]\n",
      " [9.57368383e-01 4.26316173e-02]\n",
      " [9.77465510e-01 2.25344904e-02]\n",
      " [9.69896649e-01 3.01033509e-02]\n",
      " [9.78851341e-01 2.11486590e-02]\n",
      " [9.39782585e-01 6.02174152e-02]\n",
      " [9.41482483e-01 5.85175171e-02]\n",
      " [1.24795429e-04 9.99875205e-01]\n",
      " [9.63392905e-01 3.66070954e-02]\n",
      " [9.42862960e-01 5.71370396e-02]\n",
      " [9.60303288e-01 3.96967120e-02]\n",
      " [9.78215865e-01 2.17841346e-02]\n",
      " [8.11897016e-01 1.88102984e-01]\n",
      " [9.80349082e-01 1.96509183e-02]\n",
      " [9.62267261e-01 3.77327393e-02]\n",
      " [9.71100018e-01 2.88999816e-02]\n",
      " [9.74079365e-01 2.59206355e-02]\n",
      " [9.77015874e-01 2.29841262e-02]\n",
      " [9.56592085e-01 4.34079155e-02]\n",
      " [9.55909146e-01 4.40908535e-02]\n",
      " [9.40534763e-01 5.94652375e-02]\n",
      " [8.96019266e-01 1.03980734e-01]\n",
      " [9.55789004e-01 4.42109964e-02]\n",
      " [9.30528782e-01 6.94712179e-02]\n",
      " [9.30229274e-01 6.97707257e-02]\n",
      " [9.13972865e-01 8.60271350e-02]\n",
      " [9.74467684e-01 2.55323158e-02]\n",
      " [9.41879504e-01 5.81204957e-02]\n",
      " [9.56420902e-01 4.35790984e-02]\n",
      " [9.65907262e-01 3.40927382e-02]\n",
      " [8.31517983e-01 1.68482017e-01]\n",
      " [9.80558598e-01 1.94414020e-02]\n",
      " [8.10074057e-01 1.89925943e-01]\n",
      " [9.65599075e-01 3.44009251e-02]\n",
      " [9.73943688e-01 2.60563124e-02]\n",
      " [9.63407830e-01 3.65921701e-02]\n",
      " [9.58708274e-01 4.12917263e-02]\n",
      " [9.74090152e-01 2.59098476e-02]\n",
      " [9.71288093e-01 2.87119068e-02]\n",
      " [9.73046169e-01 2.69538313e-02]\n",
      " [9.78686480e-01 2.13135197e-02]\n",
      " [9.09783781e-01 9.02162192e-02]\n",
      " [9.55352256e-01 4.46477443e-02]\n",
      " [9.64303214e-01 3.56967865e-02]\n",
      " [9.77979660e-01 2.20203400e-02]\n",
      " [9.09374314e-01 9.06256859e-02]\n",
      " [9.61328181e-01 3.86718193e-02]\n",
      " [9.71731802e-01 2.82681984e-02]\n",
      " [9.67890036e-01 3.21099635e-02]\n",
      " [9.80159285e-01 1.98407150e-02]\n",
      " [2.51541881e-01 7.48458119e-01]\n",
      " [9.79685233e-01 2.03147667e-02]\n",
      " [9.68578123e-01 3.14218766e-02]\n",
      " [9.60645950e-01 3.93540505e-02]\n",
      " [9.80282051e-01 1.97179494e-02]\n",
      " [8.61966498e-01 1.38033502e-01]\n",
      " [9.69699471e-01 3.03005292e-02]\n",
      " [8.96981795e-01 1.03018205e-01]\n",
      " [9.79409346e-01 2.05906543e-02]\n",
      " [9.06848921e-01 9.31510787e-02]\n",
      " [9.70524743e-01 2.94752569e-02]\n",
      " [9.15430252e-01 8.45697480e-02]\n",
      " [9.55464960e-01 4.45350400e-02]\n",
      " [9.71015397e-01 2.89846031e-02]\n",
      " [9.51231712e-01 4.87682882e-02]\n",
      " [9.75162587e-01 2.48374129e-02]\n",
      " [9.00618376e-01 9.93816243e-02]\n",
      " [9.77957590e-01 2.20424096e-02]\n",
      " [9.69914942e-01 3.00850578e-02]\n",
      " [9.79146591e-01 2.08534087e-02]\n",
      " [9.69160396e-01 3.08396043e-02]\n",
      " [8.87885387e-01 1.12114613e-01]\n",
      " [9.73805371e-01 2.61946286e-02]\n",
      " [7.04542358e-01 2.95457642e-01]\n",
      " [4.17401160e-01 5.82598840e-01]\n",
      " [9.45903683e-01 5.40963172e-02]\n",
      " [9.78211483e-01 2.17885171e-02]\n",
      " [5.60995581e-01 4.39004419e-01]\n",
      " [9.70926758e-01 2.90732424e-02]\n",
      " [9.79636729e-01 2.03632706e-02]\n",
      " [9.65055798e-01 3.49442019e-02]\n",
      " [9.67878316e-01 3.21216836e-02]\n",
      " [9.73419710e-01 2.65802903e-02]\n",
      " [9.66197798e-01 3.38022016e-02]\n",
      " [9.25798242e-01 7.42017585e-02]\n",
      " [1.41870901e-01 8.58129099e-01]\n",
      " [9.69991138e-01 3.00088615e-02]\n",
      " [9.29558180e-01 7.04418202e-02]\n",
      " [9.72985191e-01 2.70148094e-02]\n",
      " [9.72836631e-01 2.71633690e-02]\n",
      " [9.77076027e-01 2.29239730e-02]\n",
      " [9.56797457e-01 4.32025431e-02]\n",
      " [9.65116670e-01 3.48833299e-02]\n",
      " [9.58011405e-01 4.19885947e-02]\n",
      " [9.70325561e-01 2.96744395e-02]\n",
      " [9.68288762e-01 3.17112380e-02]\n",
      " [9.77725829e-01 2.22741709e-02]\n",
      " [9.69811493e-01 3.01885067e-02]\n",
      " [9.70897221e-01 2.91027785e-02]\n",
      " [9.21818832e-01 7.81811684e-02]\n",
      " [9.71864697e-01 2.81353032e-02]\n",
      " [9.50953352e-01 4.90466485e-02]\n",
      " [9.79310806e-01 2.06891938e-02]\n",
      " [9.76211871e-01 2.37881287e-02]\n",
      " [9.72543917e-01 2.74560827e-02]\n",
      " [9.73416174e-01 2.65838255e-02]\n",
      " [9.74272856e-01 2.57271439e-02]\n",
      " [9.72259078e-01 2.77409221e-02]\n",
      " [8.38219743e-01 1.61780257e-01]\n",
      " [9.76353067e-01 2.36469333e-02]\n",
      " [9.60549804e-01 3.94501960e-02]\n",
      " [9.18169242e-01 8.18307577e-02]\n",
      " [9.72901558e-01 2.70984416e-02]\n",
      " [9.21933021e-01 7.80669787e-02]\n",
      " [9.47176407e-01 5.28235932e-02]\n",
      " [9.77301704e-01 2.26982958e-02]\n",
      " [9.70833573e-01 2.91664274e-02]\n",
      " [9.72998187e-01 2.70018126e-02]\n",
      " [9.77579748e-01 2.24202518e-02]\n",
      " [9.50261399e-01 4.97386007e-02]\n",
      " [9.57919574e-01 4.20804260e-02]\n",
      " [9.74541389e-01 2.54586106e-02]\n",
      " [9.37697847e-01 6.23021532e-02]\n",
      " [9.18488494e-01 8.15115062e-02]\n",
      " [9.63833783e-01 3.61662173e-02]\n",
      " [9.80123954e-01 1.98760456e-02]\n",
      " [9.59298062e-01 4.07019382e-02]\n",
      " [9.43101434e-01 5.68985659e-02]\n",
      " [9.29635555e-01 7.03644451e-02]\n",
      " [8.28816667e-01 1.71183333e-01]\n",
      " [9.38037254e-01 6.19627462e-02]\n",
      " [9.78273912e-01 2.17260883e-02]\n",
      " [9.57081260e-01 4.29187396e-02]\n",
      " [9.78881535e-01 2.11184653e-02]\n",
      " [9.72738178e-01 2.72618221e-02]\n",
      " [9.75818625e-01 2.41813747e-02]\n",
      " [9.33281356e-01 6.67186435e-02]\n",
      " [9.70758200e-01 2.92417998e-02]\n",
      " [9.64695309e-01 3.53046909e-02]\n",
      " [9.74437499e-01 2.55625010e-02]\n",
      " [8.86648636e-01 1.13351364e-01]\n",
      " [9.78608428e-01 2.13915719e-02]\n",
      " [9.71187335e-01 2.88126646e-02]\n",
      " [8.75525520e-01 1.24474480e-01]\n",
      " [9.63877378e-01 3.61226222e-02]\n",
      " [9.52394134e-01 4.76058659e-02]\n",
      " [9.38583807e-01 6.14161933e-02]\n",
      " [9.02909263e-01 9.70907369e-02]\n",
      " [9.69421956e-01 3.05780444e-02]\n",
      " [9.78809509e-01 2.11904908e-02]\n",
      " [9.70200208e-01 2.97997920e-02]\n",
      " [9.77636134e-01 2.23638659e-02]\n",
      " [9.61726656e-01 3.82733438e-02]\n",
      " [9.78516270e-01 2.14837305e-02]\n",
      " [9.76047093e-01 2.39529065e-02]\n",
      " [9.64329467e-01 3.56705331e-02]\n",
      " [9.73389191e-01 2.66108090e-02]\n",
      " [9.78073259e-01 2.19267412e-02]\n",
      " [9.47749153e-01 5.22508469e-02]\n",
      " [9.65314193e-01 3.46858067e-02]\n",
      " [3.27402002e-01 6.72597998e-01]\n",
      " [9.53865536e-01 4.61344638e-02]\n",
      " [9.75077037e-01 2.49229631e-02]\n",
      " [9.79251792e-01 2.07482079e-02]\n",
      " [9.45775761e-01 5.42242387e-02]\n",
      " [9.74366983e-01 2.56330175e-02]\n",
      " [4.87457285e-01 5.12542715e-01]\n",
      " [9.77770761e-01 2.22292392e-02]\n",
      " [9.76069968e-01 2.39300325e-02]\n",
      " [9.66546766e-01 3.34532341e-02]\n",
      " [9.76474778e-01 2.35252216e-02]\n",
      " [9.63516375e-01 3.64836254e-02]\n",
      " [9.72818284e-01 2.71817156e-02]\n",
      " [9.61860513e-01 3.81394867e-02]\n",
      " [9.35033638e-01 6.49663619e-02]\n",
      " [4.44609839e-01 5.55390161e-01]\n",
      " [9.79598310e-01 2.04016901e-02]\n",
      " [9.58826821e-01 4.11731794e-02]\n",
      " [9.75949654e-01 2.40503462e-02]\n",
      " [5.12726999e-01 4.87273001e-01]\n",
      " [9.75401770e-01 2.45982296e-02]\n",
      " [8.20516885e-01 1.79483115e-01]\n",
      " [8.69154984e-01 1.30845016e-01]\n",
      " [9.63643826e-01 3.63561743e-02]\n",
      " [4.22516804e-01 5.77483196e-01]\n",
      " [8.95404356e-01 1.04595644e-01]\n",
      " [9.74395730e-01 2.56042698e-02]\n",
      " [9.46415859e-01 5.35841412e-02]\n",
      " [9.76786941e-01 2.32130589e-02]\n",
      " [9.76392029e-01 2.36079705e-02]\n",
      " [9.44717613e-01 5.52823875e-02]\n",
      " [9.55099730e-01 4.49002699e-02]\n",
      " [9.67569764e-01 3.24302363e-02]\n",
      " [9.73177303e-01 2.68226970e-02]\n",
      " [9.56180011e-01 4.38199892e-02]\n",
      " [9.71856811e-01 2.81431890e-02]\n",
      " [9.68809586e-01 3.11904135e-02]\n",
      " [9.09330831e-01 9.06691691e-02]\n",
      " [9.76563241e-01 2.34367586e-02]\n",
      " [9.21715837e-01 7.82841627e-02]\n",
      " [9.75050800e-01 2.49492002e-02]\n",
      " [9.74818838e-01 2.51811620e-02]\n",
      " [9.56599654e-01 4.34003455e-02]\n",
      " [9.60388740e-01 3.96112596e-02]\n",
      " [9.35608175e-01 6.43918252e-02]\n",
      " [9.77755822e-01 2.22441776e-02]\n",
      " [9.67599372e-01 3.24006275e-02]\n",
      " [9.68290652e-01 3.17093479e-02]\n",
      " [9.67201762e-01 3.27982384e-02]\n",
      " [7.03977834e-01 2.96022166e-01]\n",
      " [9.71924731e-01 2.80752687e-02]\n",
      " [9.50387279e-01 4.96127208e-02]\n",
      " [9.59614701e-01 4.03852986e-02]\n",
      " [9.72467728e-01 2.75322724e-02]\n",
      " [9.38270428e-01 6.17295721e-02]\n",
      " [8.74790483e-01 1.25209517e-01]\n",
      " [9.80337178e-01 1.96628219e-02]\n",
      " [9.31201080e-01 6.87989200e-02]\n",
      " [9.69111915e-01 3.08880854e-02]\n",
      " [9.77072633e-01 2.29273675e-02]\n",
      " [9.71523109e-01 2.84768914e-02]\n",
      " [9.38294648e-01 6.17053516e-02]\n",
      " [9.76004020e-01 2.39959804e-02]\n",
      " [9.69025223e-01 3.09747768e-02]\n",
      " [9.41013876e-01 5.89861242e-02]\n",
      " [9.64786441e-01 3.52135595e-02]\n",
      " [9.45623864e-01 5.43761357e-02]\n",
      " [8.99249395e-01 1.00750605e-01]\n",
      " [9.53253371e-01 4.67466293e-02]\n",
      " [9.76930805e-01 2.30691950e-02]\n",
      " [9.48184862e-01 5.18151380e-02]\n",
      " [9.05568616e-01 9.44313841e-02]\n",
      " [9.77339334e-01 2.26606661e-02]\n",
      " [9.61125129e-01 3.88748708e-02]\n",
      " [9.46783974e-01 5.32160265e-02]\n",
      " [9.33467840e-01 6.65321602e-02]\n",
      " [9.62184926e-01 3.78150743e-02]\n",
      " [9.70410257e-01 2.95897433e-02]\n",
      " [9.24528314e-01 7.54716859e-02]\n",
      " [9.77761718e-01 2.22382818e-02]\n",
      " [9.26008269e-01 7.39917305e-02]\n",
      " [9.01538803e-01 9.84611968e-02]\n",
      " [9.78552418e-01 2.14475817e-02]\n",
      " [9.79942004e-01 2.00579956e-02]\n",
      " [9.40653369e-01 5.93466313e-02]\n",
      " [9.61612304e-01 3.83876962e-02]\n",
      " [9.56108265e-01 4.38917348e-02]\n",
      " [9.69878536e-01 3.01214642e-02]\n",
      " [9.75221723e-01 2.47782772e-02]\n",
      " [9.78720703e-01 2.12792966e-02]\n",
      " [9.59690524e-01 4.03094761e-02]\n",
      " [9.05342515e-01 9.46574852e-02]\n",
      " [9.79501667e-01 2.04983330e-02]\n",
      " [9.54383101e-01 4.56168990e-02]\n",
      " [5.57841486e-01 4.42158514e-01]\n",
      " [9.45582317e-01 5.44176833e-02]\n",
      " [9.34919064e-01 6.50809362e-02]\n",
      " [9.64572169e-01 3.54278309e-02]\n",
      " [9.34790822e-01 6.52091777e-02]\n",
      " [9.72872464e-01 2.71275365e-02]\n",
      " [3.98964706e-01 6.01035294e-01]\n",
      " [9.80696248e-01 1.93037519e-02]\n",
      " [9.74949437e-01 2.50505627e-02]\n",
      " [9.79261185e-01 2.07388153e-02]\n",
      " [4.48945382e-01 5.51054618e-01]\n",
      " [9.67663079e-01 3.23369211e-02]\n",
      " [9.73997452e-01 2.60025478e-02]\n",
      " [9.80672732e-01 1.93272681e-02]\n",
      " [1.64286972e-01 8.35713028e-01]\n",
      " [9.76233327e-01 2.37666725e-02]\n",
      " [9.72956913e-01 2.70430867e-02]\n",
      " [8.20847200e-01 1.79152800e-01]\n",
      " [9.79949585e-01 2.00504154e-02]\n",
      " [9.15265104e-01 8.47348958e-02]\n",
      " [9.57165391e-01 4.28346092e-02]\n",
      " [8.98228464e-01 1.01771536e-01]\n",
      " [2.01749491e-02 9.79825051e-01]\n",
      " [9.53981418e-01 4.60185824e-02]\n",
      " [9.77407340e-01 2.25926603e-02]\n",
      " [8.88625851e-01 1.11374149e-01]\n",
      " [9.44794225e-01 5.52057747e-02]\n",
      " [9.71817938e-01 2.81820617e-02]\n",
      " [8.97107457e-01 1.02892543e-01]\n",
      " [9.74635856e-01 2.53641439e-02]\n",
      " [9.40126100e-01 5.98739004e-02]\n",
      " [9.53068419e-01 4.69315813e-02]\n",
      " [9.70010044e-01 2.99899560e-02]\n",
      " [9.60788597e-01 3.92114034e-02]\n",
      " [4.84422719e-01 5.15577281e-01]\n",
      " [9.57202622e-01 4.27973779e-02]\n",
      " [8.00273088e-01 1.99726912e-01]\n",
      " [6.64785023e-01 3.35214977e-01]\n",
      " [9.78106313e-01 2.18936866e-02]\n",
      " [7.16012543e-01 2.83987457e-01]\n",
      " [9.71460221e-01 2.85397792e-02]\n",
      " [9.44027705e-01 5.59722946e-02]\n",
      " [9.63601516e-01 3.63984841e-02]\n",
      " [9.70846225e-01 2.91537754e-02]\n",
      " [9.51699213e-01 4.83007873e-02]\n",
      " [9.21950935e-01 7.80490648e-02]\n",
      " [9.04439970e-01 9.55600299e-02]\n",
      " [9.80588383e-01 1.94116171e-02]\n",
      " [7.70869965e-01 2.29130035e-01]\n",
      " [9.79451029e-01 2.05489711e-02]\n",
      " [9.56244918e-01 4.37550819e-02]\n",
      " [9.44080094e-01 5.59199059e-02]\n",
      " [6.67632519e-01 3.32367481e-01]\n",
      " [9.57759489e-01 4.22405108e-02]\n",
      " [9.78873143e-01 2.11268573e-02]\n",
      " [8.47934573e-01 1.52065427e-01]\n",
      " [8.57286327e-01 1.42713673e-01]\n",
      " [9.67473518e-01 3.25264821e-02]\n",
      " [9.35040145e-01 6.49598554e-02]\n",
      " [9.23574571e-01 7.64254286e-02]\n",
      " [9.74398610e-01 2.56013899e-02]\n",
      " [9.68464572e-01 3.15354276e-02]\n",
      " [9.45689969e-01 5.43100307e-02]\n",
      " [9.68225968e-01 3.17740322e-02]\n",
      " [9.51057077e-01 4.89429234e-02]\n",
      " [9.52921193e-01 4.70788068e-02]\n",
      " [7.95524186e-01 2.04475814e-01]\n",
      " [9.68293313e-01 3.17066871e-02]\n",
      " [9.72574697e-01 2.74253027e-02]\n",
      " [9.77289894e-01 2.27101059e-02]\n",
      " [9.35313150e-01 6.46868498e-02]\n",
      " [9.74049600e-01 2.59504000e-02]\n",
      " [9.52213224e-01 4.77867758e-02]\n",
      " [9.47449946e-01 5.25500537e-02]\n",
      " [9.51221967e-01 4.87780329e-02]\n",
      " [8.29826705e-01 1.70173295e-01]\n",
      " [9.77279953e-01 2.27200469e-02]\n",
      " [9.65568750e-01 3.44312498e-02]\n",
      " [9.69503089e-01 3.04969105e-02]\n",
      " [8.06582056e-01 1.93417944e-01]]\n"
     ]
    }
   ],
   "source": [
    "print(z.u[0][y == \"B\"])"
   ]
  },
  {
   "cell_type": "markdown",
   "metadata": {},
   "source": [
    "Each component membership can be therefore plotted using this data."
   ]
  },
  {
   "cell_type": "code",
   "execution_count": 12,
   "metadata": {},
   "outputs": [
    {
     "name": "stderr",
     "output_type": "stream",
     "text": [
      "/home/ludvins/.pyenv/versions/3.6.9/envs/InferPy/lib/python3.6/site-packages/seaborn/distributions.py:283: UserWarning: Data must have variance to compute a kernel density estimate.\n",
      "  warnings.warn(msg, UserWarning)\n"
     ]
    },
    {
     "data": {
      "text/plain": [
       "<Figure size 432x288 with 0 Axes>"
      ]
     },
     "metadata": {},
     "output_type": "display_data"
    },
    {
     "data": {
      "image/png": "[encoded data removed]",
      "text/plain": [
       "<Figure size 1440x360 with 2 Axes>"
      ]
     },
     "metadata": {},
     "output_type": "display_data"
    }
   ],
   "source": [
    "plot_mixture_distplot([z.u[0][y==\"B\"],z.u[0][y==\"M\"]], [\"Benign\", \"Malign\"], [\"blue\",\"green\"], \n",
    "                      n_components = n_classes)"
   ]
  },
  {
   "cell_type": "markdown",
   "metadata": {},
   "source": [
    "We might generate a posterior sample using `random()`."
   ]
  },
  {
   "cell_type": "code",
   "execution_count": 13,
   "metadata": {},
   "outputs": [
    {
     "name": "stdout",
     "output_type": "stream",
     "text": [
      "[[ 0.0743429   0.00527335  0.03188536 ...  0.22342627 -0.00308106\n",
      "   0.25700646]\n",
      " [-0.20450711  0.09625717  0.23256486 ... -0.14408407 -0.20263355\n",
      "  -0.06837617]\n",
      " [ 0.2995369  -0.2177071  -0.00289559 ... -0.08487693 -0.00755265\n",
      "  -0.10025784]\n",
      " ...\n",
      " [-0.00974389 -0.15705131 -0.01358923 ...  0.05708143  0.20126379\n",
      "  -0.01745082]\n",
      " [-0.3000618  -0.13105361  0.20172223 ... -0.09875572 -0.02680159\n",
      "  -0.04544714]\n",
      " [ 0.22298444  0.16012556  0.03350916 ... -0.01141511 -0.34832426\n",
      "  -0.09770239]]\n"
     ]
    }
   ],
   "source": [
    "print(x.random())"
   ]
  },
  {
   "cell_type": "markdown",
   "metadata": {},
   "source": [
    "## Reduced space"
   ]
  },
  {
   "cell_type": "markdown",
   "metadata": {},
   "source": [
    "We might use a vae to reduce the data to a two-dimensional space."
   ]
  },
  {
   "cell_type": "code",
   "execution_count": 14,
   "metadata": {},
   "outputs": [
    {
     "name": "stdout",
     "output_type": "stream",
     "text": [
      "\n",
      " 0 epochs\t 504412128.0....................\n",
      " 200 epochs\t 6163732.0....................\n",
      " 400 epochs\t 1965005.875....................\n",
      " 600 epochs\t 1292843.875....................\n",
      " 800 epochs\t 911255.0....................\n",
      " 1000 epochs\t 731195.25....................\n",
      " 1200 epochs\t 618658.75....................\n",
      " 1400 epochs\t 551460.0625....................\n",
      " 1600 epochs\t 781488.9375....................\n",
      " 1800 epochs\t 480570.8125....................\n",
      " 2000 epochs\t 410057.6875....................\n",
      " 2200 epochs\t 377567.4375....................\n",
      " 2400 epochs\t 348210.03125....................\n",
      " 2600 epochs\t 329420.78125....................\n",
      " 2800 epochs\t 312858.1875....................\n",
      " 3000 epochs\t 309560.71875....................\n",
      " 3200 epochs\t 297279.78125....................\n",
      " 3400 epochs\t 300119.59375....................\n",
      " 3600 epochs\t 372105.65625....................\n",
      " 3800 epochs\t 260840.1875...................."
     ]
    }
   ],
   "source": [
    "vae_model = vae(2, 100, dim)\n",
    "q_vae = Q_vae(2, 100, dim)\n",
    "\n",
    "optimizer = tf.train.AdamOptimizer(0.01)\n",
    "VI_vae = inf.inference.VI(q_vae, optimizer=optimizer, epochs=4000)\n",
    "vae_model.fit({\"x\": X}, VI_vae)\n",
    "data = vae_model.posterior(\"z\", data={\"x\": X}).sample()"
   ]
  },
  {
   "cell_type": "markdown",
   "metadata": {},
   "source": [
    "We define the new mixture model and initialize training."
   ]
  },
  {
   "cell_type": "code",
   "execution_count": 55,
   "metadata": {},
   "outputs": [
    {
     "name": "stdout",
     "output_type": "stream",
     "text": [
      "Iteration 1: loglike=-4.200135e+03 (0.006 seconds)\n",
      "Iteration 2: loglike=-3.833744e+03 (0.006 seconds)\n",
      "Iteration 3: loglike=-3.782325e+03 (0.006 seconds)\n",
      "Iteration 4: loglike=-3.762479e+03 (0.010 seconds)\n",
      "Iteration 5: loglike=-3.750912e+03 (0.006 seconds)\n",
      "Iteration 6: loglike=-3.744867e+03 (0.007 seconds)\n",
      "Iteration 7: loglike=-3.741921e+03 (0.006 seconds)\n",
      "Iteration 8: loglike=-3.740426e+03 (0.005 seconds)\n",
      "Iteration 9: loglike=-3.739595e+03 (0.006 seconds)\n",
      "Iteration 10: loglike=-3.739100e+03 (0.005 seconds)\n",
      "Iteration 11: loglike=-3.738793e+03 (0.006 seconds)\n",
      "Iteration 12: loglike=-3.738599e+03 (0.006 seconds)\n",
      "Iteration 13: loglike=-3.738475e+03 (0.006 seconds)\n",
      "Iteration 14: loglike=-3.738395e+03 (0.005 seconds)\n",
      "Iteration 15: loglike=-3.738344e+03 (0.006 seconds)\n",
      "Iteration 16: loglike=-3.738311e+03 (0.005 seconds)\n",
      "Converged at iteration 16.\n"
     ]
    }
   ],
   "source": [
    "x, z, pi, mu, Lambda = GaussianMixture(dim = data.shape[1], \n",
    "                                       n_components = len(y.unique()), \n",
    "                                       n_samples = X.shape[0])\n",
    "x.observe(data)\n",
    "Q = VB(x, mu, z, Lambda, pi)\n",
    "z.initialize_from_random()\n",
    "Q.update(repeat=1000)"
   ]
  },
  {
   "cell_type": "markdown",
   "metadata": {},
   "source": [
    "In this case, `pi` has correctly learn each component probability."
   ]
  },
  {
   "cell_type": "code",
   "execution_count": 56,
   "metadata": {},
   "outputs": [
    {
     "name": "stdout",
     "output_type": "stream",
     "text": [
      " ~ Dirichlet(alpha)\n",
      "  alpha =\n",
      "[353.13858066 216.86141934]\n"
     ]
    }
   ],
   "source": [
    "print(pi)"
   ]
  },
  {
   "cell_type": "code",
   "execution_count": 57,
   "metadata": {},
   "outputs": [
    {
     "data": {
      "image/png": "[encoded data removed]",
      "text/plain": [
       "<Figure size 432x288 with 1 Axes>"
      ]
     },
     "metadata": {},
     "output_type": "display_data"
    }
   ],
   "source": [
    "bpplt.gaussian_mixture_2d(x, alpha=pi, scale=5)\n",
    "bpplt.pyplot.show()"
   ]
  },
  {
   "cell_type": "code",
   "execution_count": 58,
   "metadata": {},
   "outputs": [
    {
     "data": {
      "text/plain": [
       "<Figure size 432x288 with 0 Axes>"
      ]
     },
     "metadata": {},
     "output_type": "display_data"
    },
    {
     "data": {
      "image/png": "[encoded data removed]",
      "text/plain": [
       "<Figure size 1440x360 with 2 Axes>"
      ]
     },
     "metadata": {},
     "output_type": "display_data"
    }
   ],
   "source": [
    "plot_mixture_distplot([z.u[0][y==\"B\"],z.u[0][y==\"M\"]], [\"Benign\", \"Malign\"], [\"blue\",\"green\"], \n",
    "                      n_components = n_classes)"
   ]
  },
  {
   "cell_type": "code",
   "execution_count": null,
   "metadata": {},
   "outputs": [],
   "source": []
  }
 ],
 "metadata": {
  "kernelspec": {
   "display_name": "TFG py3.6",
   "language": "python",
   "name": "tfg-py36"
  },
  "language_info": {
   "codemirror_mode": {
    "name": "ipython",
    "version": 3
   },
   "file_extension": ".py",
   "mimetype": "text/x-python",
   "name": "python",
   "nbconvert_exporter": "python",
   "pygments_lexer": "ipython3",
   "version": "3.6.9"
  },
  "toc": {
   "base_numbering": 1,
   "nav_menu": {},
   "number_sections": true,
   "sideBar": true,
   "skip_h1_title": false,
   "title_cell": "Table of Contents",
   "title_sidebar": "Contents",
   "toc_cell": false,
   "toc_position": {},
   "toc_section_display": true,
   "toc_window_display": true
  }
 },
 "nbformat": 4,
 "nbformat_minor": 4
}
