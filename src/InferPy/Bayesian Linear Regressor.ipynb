{
 "cells": [
  {
   "cell_type": "markdown",
   "metadata": {},
   "source": [
    "# Imports"
   ]
  },
  {
   "cell_type": "code",
   "execution_count": 17,
   "metadata": {},
   "outputs": [],
   "source": [
    "import inferpy as inf\n",
    "import tensorflow as tf\n",
    "import numpy as np\n",
    "import matplotlib.pyplot as plt\n",
    "from inferpy.data import mnist\n",
    "from sklearn.metrics import r2_score\n",
    "from sklearn.datasets import load_bostonsklearn.datasets.fetch_california_housing¶\n",
    "from sklearn.datasets import fetch_california_housing\n",
    "from sklearn.model_selection import train_test_split\n",
    "from sklearn.linear_model import LinearRegression"
   ]
  },
  {
   "cell_type": "markdown",
   "metadata": {},
   "source": [
    "# Constants"
   ]
  },
  {
   "cell_type": "code",
   "execution_count": 18,
   "metadata": {},
   "outputs": [],
   "source": [
    "# Training epochs\n",
    "num_epochs = 3000\n",
    "# Learning rate for Adam optimizer\n",
    "learning_rate = 0.01\n",
    "# digits considered\n",
    "DIG = [0,1,2]\n",
    "\n",
    "tf.set_random_seed(1234)"
   ]
  },
  {
   "cell_type": "code",
   "execution_count": 19,
   "metadata": {},
   "outputs": [],
   "source": [
    "X, y = load_boston(return_X_y=True)\n",
    "X_train, X_test, y_train, y_test = train_test_split(X, y, test_size=0.20, random_state=42)\n",
    "\n",
    "d = np.shape(X_train)[-1]\n",
    "N = np.shape(X_train)[0]"
   ]
  },
  {
   "cell_type": "code",
   "execution_count": 20,
   "metadata": {},
   "outputs": [],
   "source": [
    "@inf.probmodel\n",
    "def linear_reg(d):\n",
    "    w0 = inf.Normal(0, 1, name=\"w0\")\n",
    "    w = inf.Normal(np.zeros([d, 1]), 1, name=\"w\")\n",
    "\n",
    "    with inf.datamodel():\n",
    "        x = inf.Normal(tf.ones(d), 2, name=\"x\")\n",
    "        y = inf.Normal(w0 + x @ w, 1.0, name=\"y\")"
   ]
  },
  {
   "cell_type": "code",
   "execution_count": 21,
   "metadata": {},
   "outputs": [],
   "source": [
    "@inf.probmodel\n",
    "def qmodel(d):\n",
    "    qw0_loc = inf.Parameter(0., name=\"qw0_loc\")\n",
    "    qw0_scale = tf.math.softplus(inf.Parameter(1., name=\"qw0_scale\"))\n",
    "    qw0 = inf.Normal(qw0_loc, qw0_scale, name=\"w0\")\n",
    "\n",
    "    qw_loc = inf.Parameter(np.zeros([d, 1]), name=\"qw_loc\")\n",
    "    qw_scale = tf.math.softplus(inf.Parameter(tf.ones([d, 1]), name=\"qw_scale\"))\n",
    "    qw = inf.Normal(qw_loc, qw_scale, name=\"w\")"
   ]
  },
  {
   "cell_type": "code",
   "execution_count": 22,
   "metadata": {},
   "outputs": [],
   "source": [
    "# create an instance of the model\n",
    "m = linear_reg(d)\n",
    "q = qmodel(d)"
   ]
  },
  {
   "cell_type": "code",
   "execution_count": 23,
   "metadata": {},
   "outputs": [
    {
     "name": "stdout",
     "output_type": "stream",
     "text": [
      "\n",
      " 0 epochs\t 145314336.0....................\n",
      " 200 epochs\t 17422980.0....................\n",
      " 400 epochs\t 42633948.0....................\n",
      " 600 epochs\t 35767688.0....................\n",
      " 800 epochs\t 36228388.0....................\n",
      " 1000 epochs\t 20679892.0....................\n",
      " 1200 epochs\t 17341964.0....................\n",
      " 1400 epochs\t 20092964.0....................\n",
      " 1600 epochs\t 17737074.0....................\n",
      " 1800 epochs\t 18070762.0....................\n",
      " 2000 epochs\t 17026610.0....................\n",
      " 2200 epochs\t 17188266.0....................\n",
      " 2400 epochs\t 17549442.0....................\n",
      " 2600 epochs\t 17406492.0....................\n",
      " 2800 epochs\t 16927094.0...................."
     ]
    }
   ],
   "source": [
    "# set and run the inference\n",
    "optimizer = tf.train.AdamOptimizer(learning_rate)\n",
    "VI = inf.inference.VI(q, optimizer=optimizer, epochs=num_epochs)\n",
    "m.fit({\"x\": X_train, \"y\": y_train}, VI)"
   ]
  },
  {
   "cell_type": "code",
   "execution_count": 24,
   "metadata": {},
   "outputs": [
    {
     "data": {
      "image/png": "[encoded data removed]",
      "text/plain": [
       "<Figure size 432x288 with 1 Axes>"
      ]
     },
     "metadata": {
      "needs_background": "light"
     },
     "output_type": "display_data"
    }
   ],
   "source": [
    "L = VI.losses\n",
    "plt.plot(range(len(L)), L)\n",
    "\n",
    "plt.xlabel('epochs')\n",
    "plt.ylabel('Loss')\n",
    "plt.title('Loss evolution')\n",
    "plt.grid(True)\n",
    "plt.show()"
   ]
  },
  {
   "cell_type": "code",
   "execution_count": 25,
   "metadata": {},
   "outputs": [
    {
     "data": {
      "text/plain": [
       "{'w0': {'name': 'w0',\n",
       "  'allow_nan_stats': True,\n",
       "  'validate_args': False,\n",
       "  'scale': 1.3824779,\n",
       "  'loc': 0.12997118},\n",
       " 'w': {'name': 'w',\n",
       "  'allow_nan_stats': True,\n",
       "  'validate_args': False,\n",
       "  'scale': array([[0.47753108],\n",
       "         [0.23068522],\n",
       "         [0.64570665],\n",
       "         [1.3164208 ],\n",
       "         [1.1571425 ],\n",
       "         [0.90625733],\n",
       "         [0.19262601],\n",
       "         [0.5677754 ],\n",
       "         [0.49065953],\n",
       "         [0.08069825],\n",
       "         [0.4431073 ],\n",
       "         [0.08541942],\n",
       "         [0.561361  ]], dtype=float32),\n",
       "  'loc': array([[-0.1458022 ],\n",
       "         [ 0.12772268],\n",
       "         [-0.01956875],\n",
       "         [ 0.83967984],\n",
       "         [ 0.09187422],\n",
       "         [ 0.21405187],\n",
       "         [ 0.07097021],\n",
       "         [ 0.09639793],\n",
       "         [-0.00374777],\n",
       "         [ 0.02288223],\n",
       "         [ 0.07786758],\n",
       "         [ 0.0685137 ],\n",
       "         [-0.19644162]], dtype=float32)}}"
      ]
     },
     "execution_count": 25,
     "metadata": {},
     "output_type": "execute_result"
    }
   ],
   "source": [
    "# extract the parameters of the posterior\n",
    "m.posterior([\"w\", \"w0\"]).parameters()"
   ]
  },
  {
   "cell_type": "code",
   "execution_count": 55,
   "metadata": {},
   "outputs": [
    {
     "name": "stdout",
     "output_type": "stream",
     "text": [
      "W:  [[-0.1458022 ]\n",
      " [ 0.12772268]\n",
      " [-0.01956875]\n",
      " [ 0.83967984]\n",
      " [ 0.09187422]\n",
      " [ 0.21405187]\n",
      " [ 0.07097021]\n",
      " [ 0.09639793]\n",
      " [-0.00374777]\n",
      " [ 0.02288223]\n",
      " [ 0.07786758]\n",
      " [ 0.0685137 ]\n",
      " [-0.19644162]]\n",
      "W0:  0.12997118\n"
     ]
    }
   ],
   "source": [
    "w = m.posterior([\"w\"]).parameters()[\"loc\"]\n",
    "w_0 = m.posterior([\"w0\"]).parameters()[\"loc\"]\n",
    "print(\"W: \", w)\n",
    "print(\"W0: \", w_0)"
   ]
  },
  {
   "cell_type": "code",
   "execution_count": 52,
   "metadata": {},
   "outputs": [],
   "source": [
    "def predictor(x):\n",
    "    return w_0 + x @ w"
   ]
  },
  {
   "cell_type": "code",
   "execution_count": 53,
   "metadata": {},
   "outputs": [
    {
     "name": "stdout",
     "output_type": "stream",
     "text": [
      "R² - Bayesian linear Regressor:  -5.011117207427057\n",
      "R² - Linear Regressor 0.6687594935356307\n"
     ]
    }
   ],
   "source": [
    "print(\"R² - Bayesian linear Regressor: \", r2_score(y_test, predictor(X_test)))\n",
    "lr = LinearRegression()\n",
    "lr.fit(X_train, y_train)\n",
    "print(\"R² - Linear Regressor\", r2_score(y_test, lr.predict(X_test)))"
   ]
  },
  {
   "cell_type": "code",
   "execution_count": 56,
   "metadata": {},
   "outputs": [
    {
     "ename": "AttributeError",
     "evalue": "'LinearRegression' object has no attribute 'parameters'",
     "output_type": "error",
     "traceback": [
      "\u001b[0;31m---------------------------------------------------------------------------\u001b[0m",
      "\u001b[0;31mAttributeError\u001b[0m                            Traceback (most recent call last)",
      "\u001b[0;32m<ipython-input-56-3087aa623773>\u001b[0m in \u001b[0;36m<module>\u001b[0;34m\u001b[0m\n\u001b[0;32m----> 1\u001b[0;31m \u001b[0mprint\u001b[0m\u001b[0;34m(\u001b[0m\u001b[0mlr\u001b[0m\u001b[0;34m.\u001b[0m\u001b[0mparameters\u001b[0m\u001b[0;34m(\u001b[0m\u001b[0;34m)\u001b[0m\u001b[0;34m)\u001b[0m\u001b[0;34m\u001b[0m\u001b[0;34m\u001b[0m\u001b[0m\n\u001b[0m",
      "\u001b[0;31mAttributeError\u001b[0m: 'LinearRegression' object has no attribute 'parameters'"
     ]
    }
   ],
   "source": [
    "print(lr.parameters())"
   ]
  },
  {
   "cell_type": "code",
   "execution_count": null,
   "metadata": {},
   "outputs": [],
   "source": []
  }
 ],
 "metadata": {
  "kernelspec": {
   "display_name": "TFG py3.6",
   "language": "python",
   "name": "tfg-py36"
  },
  "language_info": {
   "codemirror_mode": {
    "name": "ipython",
    "version": 3
   },
   "file_extension": ".py",
   "mimetype": "text/x-python",
   "name": "python",
   "nbconvert_exporter": "python",
   "pygments_lexer": "ipython3",
   "version": "3.6.9"
  },
  "toc": {
   "base_numbering": 1,
   "nav_menu": {},
   "number_sections": true,
   "sideBar": true,
   "skip_h1_title": false,
   "title_cell": "Table of Contents",
   "title_sidebar": "Contents",
   "toc_cell": false,
   "toc_position": {},
   "toc_section_display": true,
   "toc_window_display": true
  }
 },
 "nbformat": 4,
 "nbformat_minor": 4
}
