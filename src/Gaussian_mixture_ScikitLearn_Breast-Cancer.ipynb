{
 "cells": [
  {
   "cell_type": "markdown",
   "metadata": {},
   "source": [
    "The aim of this notebook is to test `Scikit-Learn`'s potential on modelling Gaussian mixtures. Two attepts are done, the first on the proper `Breast Cancer Wisconsin` dataset, and the second on a three-dimensional reduction using a variational auto-encoder.\n",
    "\n",
    "The mixture is componed by the same number of components as classes has the dataset. An optimal outcome would be that each class is modeled by one component. In order to test this, we are using each datapoint posterior probability of belonging to each component to compute a density function over each class and component. "
   ]
  },
  {
   "cell_type": "markdown",
   "metadata": {},
   "source": [
    "# Imports and Dataset"
   ]
  },
  {
   "cell_type": "code",
   "execution_count": 1,
   "metadata": {},
   "outputs": [
    {
     "name": "stderr",
     "output_type": "stream",
     "text": [
      "/home/ludvins/.pyenv/versions/3.6.9/envs/InferPy/lib/python3.6/site-packages/tensorflow/python/framework/dtypes.py:516: FutureWarning: Passing (type, 1) or '1type' as a synonym of type is deprecated; in a future version of numpy, it will be understood as (type, (1,)) / '(1,)type'.\n",
      "  _np_qint8 = np.dtype([(\"qint8\", np.int8, 1)])\n",
      "/home/ludvins/.pyenv/versions/3.6.9/envs/InferPy/lib/python3.6/site-packages/tensorflow/python/framework/dtypes.py:517: FutureWarning: Passing (type, 1) or '1type' as a synonym of type is deprecated; in a future version of numpy, it will be understood as (type, (1,)) / '(1,)type'.\n",
      "  _np_quint8 = np.dtype([(\"quint8\", np.uint8, 1)])\n",
      "/home/ludvins/.pyenv/versions/3.6.9/envs/InferPy/lib/python3.6/site-packages/tensorflow/python/framework/dtypes.py:518: FutureWarning: Passing (type, 1) or '1type' as a synonym of type is deprecated; in a future version of numpy, it will be understood as (type, (1,)) / '(1,)type'.\n",
      "  _np_qint16 = np.dtype([(\"qint16\", np.int16, 1)])\n",
      "/home/ludvins/.pyenv/versions/3.6.9/envs/InferPy/lib/python3.6/site-packages/tensorflow/python/framework/dtypes.py:519: FutureWarning: Passing (type, 1) or '1type' as a synonym of type is deprecated; in a future version of numpy, it will be understood as (type, (1,)) / '(1,)type'.\n",
      "  _np_quint16 = np.dtype([(\"quint16\", np.uint16, 1)])\n",
      "/home/ludvins/.pyenv/versions/3.6.9/envs/InferPy/lib/python3.6/site-packages/tensorflow/python/framework/dtypes.py:520: FutureWarning: Passing (type, 1) or '1type' as a synonym of type is deprecated; in a future version of numpy, it will be understood as (type, (1,)) / '(1,)type'.\n",
      "  _np_qint32 = np.dtype([(\"qint32\", np.int32, 1)])\n",
      "/home/ludvins/.pyenv/versions/3.6.9/envs/InferPy/lib/python3.6/site-packages/tensorflow/python/framework/dtypes.py:525: FutureWarning: Passing (type, 1) or '1type' as a synonym of type is deprecated; in a future version of numpy, it will be understood as (type, (1,)) / '(1,)type'.\n",
      "  np_resource = np.dtype([(\"resource\", np.ubyte, 1)])\n",
      "/home/ludvins/.pyenv/versions/3.6.9/envs/InferPy/lib/python3.6/site-packages/tensorboard/compat/tensorflow_stub/dtypes.py:541: FutureWarning: Passing (type, 1) or '1type' as a synonym of type is deprecated; in a future version of numpy, it will be understood as (type, (1,)) / '(1,)type'.\n",
      "  _np_qint8 = np.dtype([(\"qint8\", np.int8, 1)])\n",
      "/home/ludvins/.pyenv/versions/3.6.9/envs/InferPy/lib/python3.6/site-packages/tensorboard/compat/tensorflow_stub/dtypes.py:542: FutureWarning: Passing (type, 1) or '1type' as a synonym of type is deprecated; in a future version of numpy, it will be understood as (type, (1,)) / '(1,)type'.\n",
      "  _np_quint8 = np.dtype([(\"quint8\", np.uint8, 1)])\n",
      "/home/ludvins/.pyenv/versions/3.6.9/envs/InferPy/lib/python3.6/site-packages/tensorboard/compat/tensorflow_stub/dtypes.py:543: FutureWarning: Passing (type, 1) or '1type' as a synonym of type is deprecated; in a future version of numpy, it will be understood as (type, (1,)) / '(1,)type'.\n",
      "  _np_qint16 = np.dtype([(\"qint16\", np.int16, 1)])\n",
      "/home/ludvins/.pyenv/versions/3.6.9/envs/InferPy/lib/python3.6/site-packages/tensorboard/compat/tensorflow_stub/dtypes.py:544: FutureWarning: Passing (type, 1) or '1type' as a synonym of type is deprecated; in a future version of numpy, it will be understood as (type, (1,)) / '(1,)type'.\n",
      "  _np_quint16 = np.dtype([(\"quint16\", np.uint16, 1)])\n",
      "/home/ludvins/.pyenv/versions/3.6.9/envs/InferPy/lib/python3.6/site-packages/tensorboard/compat/tensorflow_stub/dtypes.py:545: FutureWarning: Passing (type, 1) or '1type' as a synonym of type is deprecated; in a future version of numpy, it will be understood as (type, (1,)) / '(1,)type'.\n",
      "  _np_qint32 = np.dtype([(\"qint32\", np.int32, 1)])\n",
      "/home/ludvins/.pyenv/versions/3.6.9/envs/InferPy/lib/python3.6/site-packages/tensorboard/compat/tensorflow_stub/dtypes.py:550: FutureWarning: Passing (type, 1) or '1type' as a synonym of type is deprecated; in a future version of numpy, it will be understood as (type, (1,)) / '(1,)type'.\n",
      "  np_resource = np.dtype([(\"resource\", np.ubyte, 1)])\n",
      "Using TensorFlow backend.\n"
     ]
    }
   ],
   "source": [
    "# Imports\n",
    "from models import *\n",
    "from functions import *\n",
    "from sklearn.mixture import BayesianGaussianMixture\n",
    "from sklearn.model_selection import train_test_split\n",
    "# seed\n",
    "np.random.seed(2020)"
   ]
  },
  {
   "cell_type": "markdown",
   "metadata": {},
   "source": [
    "Load and prepare Breast Cancer database, located in ```../database/```."
   ]
  },
  {
   "cell_type": "code",
   "execution_count": 2,
   "metadata": {},
   "outputs": [],
   "source": [
    "# Column names\n",
    "col_names = [\"id\",\"diagnosis\",\"radius_mean\",\"texture_mean\",\"perimeter_mean\",\"area_mean\",\"smoothness_mean\",\"compactness_mean\",\"concavity_mean\",\"concave points_mean\",\"symmetry_mean\",\"fractal_dimension_mean\",\"radius_se\",\"texture_se\",\"perimeter_se\",\"area_se\",\"smoothness_se\",\"compactness_se\",\"concavity_se\",\"concave points_se\",\"symmetry_se\",\"fractal_dimension_se\",\"radius_worst\",\"texture_worst\",\"perimeter_worst\",\"area_worst\",\"smoothness_worst\",\"compactness_worst\",\"concavity_worst\",\"concave points_worst\",\"symmetry_worst\",\"fractal_dimension_worst\"]\n",
    "# Reading dataset\n",
    "dataset = pd.read_csv('../dataset/wdbc.data', header=None, names= col_names)\n",
    "X = dataset.drop(['id','diagnosis'], axis=1)\n",
    "y = dataset['diagnosis']"
   ]
  },
  {
   "cell_type": "markdown",
   "metadata": {},
   "source": [
    "We define a function that separates and organizes the dataset in classes."
   ]
  },
  {
   "cell_type": "code",
   "execution_count": 3,
   "metadata": {},
   "outputs": [],
   "source": [
    "def separate_in_classes(X, y):\n",
    "    return (X[y == 'B'], X[y == 'M'])"
   ]
  },
  {
   "cell_type": "markdown",
   "metadata": {},
   "source": [
    "# Constants"
   ]
  },
  {
   "cell_type": "code",
   "execution_count": 4,
   "metadata": {},
   "outputs": [],
   "source": [
    "# Ammount of samples\n",
    "n_samples = X.shape[0]\n",
    "# Observed space dimensionality\n",
    "data_dim = X.shape[1]\n",
    "# Ammount of classes\n",
    "n_classes = len(y.unique())\n",
    "# Hidden representation dimension\n",
    "h_dim = 3"
   ]
  },
  {
   "cell_type": "markdown",
   "metadata": {},
   "source": [
    "# Learning"
   ]
  },
  {
   "cell_type": "markdown",
   "metadata": {},
   "source": [
    "Create `BayesianGaussianMixture` object from [Sklearn](https://scikit-learn.org/stable/modules/generated/sklearn.mixture.BayesianGaussianMixture.html), with a number of components equal to the ammount of classes.\n",
    "\n",
    "The parameter `weight_concentration_prior_type` models if a Dirichlet distribution or a Dirichlet Process is used for the weights. In this case, we model using a distribution. \n",
    "We are setting `covariance_type = \"diag\"` to reduce the ammount of parameters that need to be learned form the model.\n",
    "\n",
    "The following prior values are used:\n",
    "- The means variable $\\mu$ follows a centered normal distribution: \n",
    "  $$\\mu_k \\sim \\mathcal{N}_{data\\_dim}(0,I).$$\n",
    "- The precision variables $\\Lambda$ follow a Wishart distribution with parameters\n",
    "  $$\\Lambda_k \\sim \\mathcal{W}_{data\\_dim}(data\\_dim, I).$$\n",
    "  The covariance matrix are restricted to diagonal matrices.\n",
    "- The weights concentration variable follows a dirichlet with parameter\n",
    "  $$ \\pi \\sim \\text{Symmetric-Dirichlet}\\Big(\\frac{1}{n\\_classes}\\Big).$$\n",
    "    "
   ]
  },
  {
   "cell_type": "code",
   "execution_count": 5,
   "metadata": {},
   "outputs": [],
   "source": [
    "def gm_model(n_classes, dim):\n",
    "    return BayesianGaussianMixture(n_components = n_classes, \n",
    "                                   weight_concentration_prior_type = 'dirichlet_distribution',\n",
    "                                   weight_concentration_prior = 1/n_classes,\n",
    "                                   covariance_type = \"diag\",\n",
    "                                   mean_precision_prior = 1,\n",
    "                                   mean_prior = np.zeros([dim]),\n",
    "                                   degrees_of_freedom_prior = dim,\n",
    "                                   covariance_prior = np.ones(dim),\n",
    "                                   max_iter = 1000,\n",
    "                                   tol = 1e-3,\n",
    "                                   random_state = 0)\n"
   ]
  },
  {
   "cell_type": "markdown",
   "metadata": {},
   "source": [
    "# Learning and results in observed space"
   ]
  },
  {
   "cell_type": "markdown",
   "metadata": {},
   "source": [
    "We fit the model using the observed data `X`. The stop criteria is either reaching `max_iter` steps on the EM algorithm or having a lower bound difference betweeen iterations below `tol`."
   ]
  },
  {
   "cell_type": "code",
   "execution_count": 6,
   "metadata": {},
   "outputs": [
    {
     "data": {
      "text/plain": [
       "BayesianGaussianMixture(covariance_prior=array([1., 1., 1., 1., 1., 1., 1., 1., 1., 1., 1., 1., 1., 1., 1., 1., 1.,\n",
       "       1., 1., 1., 1., 1., 1., 1., 1., 1., 1., 1., 1., 1.]),\n",
       "                        covariance_type='diag', degrees_of_freedom_prior=30,\n",
       "                        max_iter=1000, mean_precision_prior=1,\n",
       "                        mean_prior=array([0., 0., 0., 0., 0., 0., 0., 0., 0., 0., 0., 0., 0., 0., 0., 0., 0.,\n",
       "       0., 0., 0., 0., 0., 0., 0., 0., 0., 0., 0., 0., 0.]),\n",
       "                        n_components=2, random_state=0,\n",
       "                        weight_concentration_prior=0.5,\n",
       "                        weight_concentration_prior_type='dirichlet_distribution')"
      ]
     },
     "execution_count": 6,
     "metadata": {},
     "output_type": "execute_result"
    }
   ],
   "source": [
    "gm = gm_model(n_classes, data_dim)\n",
    "gm.fit(X)"
   ]
  },
  {
   "cell_type": "markdown",
   "metadata": {},
   "source": [
    "The model's posterior parameters might be inspected via `weights_`, `means_` and `precisions_`"
   ]
  },
  {
   "cell_type": "markdown",
   "metadata": {},
   "source": [
    "The mixture weights are:"
   ]
  },
  {
   "cell_type": "code",
   "execution_count": 7,
   "metadata": {},
   "outputs": [
    {
     "name": "stdout",
     "output_type": "stream",
     "text": [
      "[0.31003524 0.68996476]\n"
     ]
    }
   ],
   "source": [
    "print(gm.weights_)"
   ]
  },
  {
   "cell_type": "markdown",
   "metadata": {},
   "source": [
    "Which are quite more similar to the real ones compared to the prior belief (0.5, 0.5). This gives us the intuition that the most common class (benign) is modeled in the second component."
   ]
  },
  {
   "cell_type": "markdown",
   "metadata": {},
   "source": [
    "Each component mean is:"
   ]
  },
  {
   "cell_type": "code",
   "execution_count": 8,
   "metadata": {},
   "outputs": [
    {
     "name": "stdout",
     "output_type": "stream",
     "text": [
      "[[1.80877281e+01 2.14089970e+01 1.19737761e+02 1.05037966e+03\n",
      "  1.02204868e-01 1.51449044e-01 1.75581900e-01 9.40103080e-02\n",
      "  1.92956780e-01 6.23897315e-02 6.69248696e-01 1.23638447e+00\n",
      "  4.73808471e+00 8.16162460e+01 6.87003760e-03 3.55331308e-02\n",
      "  4.85362265e-02 1.61056782e-02 2.10839782e-02 4.52242746e-03\n",
      "  2.19285046e+01 2.87626885e+01 1.46898877e+02 1.53042711e+03\n",
      "  1.42144264e-01 3.82424356e-01 4.71284354e-01 1.87096231e-01\n",
      "  3.18735105e-01 9.06549634e-02]\n",
      " [1.22731508e+01 1.82378670e+01 7.90046485e+01 4.73572974e+02\n",
      "  9.32405213e-02 8.26101232e-02 4.92919277e-02 2.83774732e-02\n",
      "  1.74933460e-01 6.26622272e-02 2.84266880e-01 1.20188314e+00\n",
      "  2.00900017e+00 2.15545776e+01 7.08214982e-03 2.08235011e-02\n",
      "  2.42417908e-02 9.79672192e-03 2.01941828e-02 3.44820867e-03\n",
      "  1.36395924e+01 2.41581998e+01 8.88775610e+01 5.83649306e+02\n",
      "  1.27296770e-01 1.95295721e-01 1.81203231e-01 8.14001156e-02\n",
      "  2.75704101e-01 8.05000165e-02]]\n"
     ]
    }
   ],
   "source": [
    "print(gm.means_)"
   ]
  },
  {
   "cell_type": "markdown",
   "metadata": {},
   "source": [
    "Each component diagonal covariance matrix is:"
   ]
  },
  {
   "cell_type": "code",
   "execution_count": 9,
   "metadata": {},
   "outputs": [
    {
     "name": "stdout",
     "output_type": "stream",
     "text": [
      "[[9.47840075e+00 1.58435667e+01 4.32172614e+02 1.13363388e+05\n",
      "  5.03599175e-03 7.49654076e-03 1.00867762e-02 5.81867353e-03\n",
      "  5.73159426e-03 4.92783359e-03 1.09317677e-01 2.27032117e-01\n",
      "  5.86972030e+00 3.44034339e+03 4.85821404e-03 5.22862523e-03\n",
      "  6.25116677e-03 4.88643542e-03 4.94554941e-03 4.85922191e-03\n",
      "  1.69222718e+01 3.24804387e+01 7.93101592e+02 3.08047808e+05\n",
      "  5.38100190e-03 3.22832394e-02 3.97253436e-02 6.81410246e-03\n",
      "  1.02745275e-02 5.30736745e-03]\n",
      " [3.23339023e+00 1.59768110e+01 1.42690450e+02 1.69305091e+04\n",
      "  2.56180776e-03 3.50401709e-03 3.77670897e-03 2.68261905e-03\n",
      "  3.00672733e-03 2.41382134e-03 1.26565377e-02 3.09473211e-01\n",
      "  5.19382493e-01 6.70067940e+01 2.37457252e-03 2.55293586e-03\n",
      "  2.74115687e-03 2.38877417e-03 2.41320525e-03 2.37088951e-03\n",
      "  4.52100195e+00 3.18931681e+01 2.11185765e+02 2.97868499e+04\n",
      "  2.82649593e-03 1.24249015e-02 1.98532862e-02 4.04550450e-03\n",
      "  4.72400902e-03 2.58482299e-03]]\n"
     ]
    }
   ],
   "source": [
    "print(gm.covariances_)"
   ]
  },
  {
   "cell_type": "markdown",
   "metadata": {},
   "source": [
    "The dataset is split between the two classes"
   ]
  },
  {
   "cell_type": "code",
   "execution_count": 10,
   "metadata": {},
   "outputs": [],
   "source": [
    "(B, M) = separate_in_classes(X,y)"
   ]
  },
  {
   "cell_type": "markdown",
   "metadata": {},
   "source": [
    "`predict_proba(p)` gives the probability of`p` belonging to each component. In particular, this shows that the benign case, do mostly belong to the second component, as guessed from the posterior weights."
   ]
  },
  {
   "cell_type": "code",
   "execution_count": 11,
   "metadata": {},
   "outputs": [
    {
     "data": {
      "text/plain": [
       "array([[3.59337824e-13, 1.00000000e+00],\n",
       "       [4.73580532e-14, 1.00000000e+00],\n",
       "       [1.31440689e-18, 1.00000000e+00],\n",
       "       [2.92266061e-16, 1.00000000e+00],\n",
       "       [8.66633303e-17, 1.00000000e+00],\n",
       "       [1.05953964e-15, 1.00000000e+00],\n",
       "       [3.24085367e-12, 1.00000000e+00],\n",
       "       [4.41374073e-16, 1.00000000e+00],\n",
       "       [1.85871471e-14, 1.00000000e+00],\n",
       "       [2.98225129e-17, 1.00000000e+00],\n",
       "       [7.20782864e-17, 1.00000000e+00],\n",
       "       [5.62343980e-15, 1.00000000e+00],\n",
       "       [1.13378464e-17, 1.00000000e+00],\n",
       "       [3.28533357e-15, 1.00000000e+00],\n",
       "       [2.26564449e-16, 1.00000000e+00],\n",
       "       [7.12762571e-17, 1.00000000e+00],\n",
       "       [8.74669090e-17, 1.00000000e+00],\n",
       "       [2.97768429e-17, 1.00000000e+00],\n",
       "       [9.99993914e-01, 6.08603437e-06],\n",
       "       [1.32824684e-16, 1.00000000e+00],\n",
       "       [1.94287271e-14, 1.00000000e+00],\n",
       "       [7.03754741e-16, 1.00000000e+00],\n",
       "       [5.46079237e-14, 1.00000000e+00],\n",
       "       [7.37390805e-15, 1.00000000e+00],\n",
       "       [1.10460655e-15, 1.00000000e+00],\n",
       "       [2.19537569e-08, 9.99999978e-01],\n",
       "       [1.19815902e-15, 1.00000000e+00],\n",
       "       [1.14239339e-13, 1.00000000e+00],\n",
       "       [1.87034638e-04, 9.99812965e-01],\n",
       "       [7.65930507e-10, 9.99999999e-01],\n",
       "       [1.07375891e-11, 1.00000000e+00],\n",
       "       [1.26118549e-13, 1.00000000e+00],\n",
       "       [1.17970347e-16, 1.00000000e+00],\n",
       "       [7.36137658e-18, 1.00000000e+00],\n",
       "       [2.45737708e-17, 1.00000000e+00],\n",
       "       [1.50972964e-16, 1.00000000e+00],\n",
       "       [1.08498069e-15, 1.00000000e+00],\n",
       "       [1.01871746e-15, 1.00000000e+00],\n",
       "       [3.09577079e-17, 1.00000000e+00],\n",
       "       [1.98427802e-14, 1.00000000e+00],\n",
       "       [7.25195324e-15, 1.00000000e+00],\n",
       "       [2.94900867e-15, 1.00000000e+00],\n",
       "       [6.85983851e-17, 1.00000000e+00],\n",
       "       [2.61341730e-13, 1.00000000e+00],\n",
       "       [9.76287618e-01, 2.37123824e-02],\n",
       "       [1.64341634e-16, 1.00000000e+00],\n",
       "       [4.04154108e-16, 1.00000000e+00],\n",
       "       [1.73246791e-15, 1.00000000e+00],\n",
       "       [1.30383177e-15, 1.00000000e+00],\n",
       "       [5.81914724e-17, 1.00000000e+00],\n",
       "       [1.38528668e-11, 1.00000000e+00],\n",
       "       [3.04587651e-13, 1.00000000e+00],\n",
       "       [5.59333151e-14, 1.00000000e+00],\n",
       "       [4.62432071e-06, 9.99995376e-01],\n",
       "       [3.50023758e-16, 1.00000000e+00],\n",
       "       [5.66402654e-07, 9.99999434e-01],\n",
       "       [7.25294626e-15, 1.00000000e+00],\n",
       "       [5.52742009e-17, 1.00000000e+00],\n",
       "       [2.55320653e-17, 1.00000000e+00],\n",
       "       [2.73934771e-19, 1.00000000e+00],\n",
       "       [5.52481902e-17, 1.00000000e+00],\n",
       "       [4.33705109e-14, 1.00000000e+00],\n",
       "       [2.25178382e-18, 1.00000000e+00],\n",
       "       [1.35290385e-15, 1.00000000e+00],\n",
       "       [1.88948482e-06, 9.99998111e-01],\n",
       "       [6.43395962e-10, 9.99999999e-01],\n",
       "       [6.49284738e-14, 1.00000000e+00],\n",
       "       [4.17931672e-13, 1.00000000e+00],\n",
       "       [1.58902751e-10, 1.00000000e+00],\n",
       "       [1.00000000e+00, 4.33531378e-14],\n",
       "       [1.48017064e-18, 1.00000000e+00],\n",
       "       [5.44964932e-13, 1.00000000e+00],\n",
       "       [1.06634324e-15, 1.00000000e+00],\n",
       "       [9.86375211e-01, 1.36247889e-02],\n",
       "       [1.84292647e-17, 1.00000000e+00],\n",
       "       [6.62255838e-19, 1.00000000e+00],\n",
       "       [2.97937618e-11, 1.00000000e+00],\n",
       "       [9.17421192e-15, 1.00000000e+00],\n",
       "       [2.32748168e-11, 1.00000000e+00],\n",
       "       [5.27356345e-19, 1.00000000e+00],\n",
       "       [3.52784422e-11, 1.00000000e+00],\n",
       "       [4.80169493e-17, 1.00000000e+00],\n",
       "       [1.47406757e-18, 1.00000000e+00],\n",
       "       [8.59143703e-19, 1.00000000e+00],\n",
       "       [1.77996233e-18, 1.00000000e+00],\n",
       "       [1.11403669e-12, 1.00000000e+00],\n",
       "       [2.38124995e-15, 1.00000000e+00],\n",
       "       [2.44260541e-17, 1.00000000e+00],\n",
       "       [4.12379394e-17, 1.00000000e+00],\n",
       "       [9.93828693e-18, 1.00000000e+00],\n",
       "       [8.61364958e-17, 1.00000000e+00],\n",
       "       [7.62368942e-17, 1.00000000e+00],\n",
       "       [6.47626262e-17, 1.00000000e+00],\n",
       "       [2.89770672e-04, 9.99710229e-01],\n",
       "       [2.66364464e-21, 1.00000000e+00],\n",
       "       [1.89010626e-15, 1.00000000e+00],\n",
       "       [3.02855769e-14, 1.00000000e+00],\n",
       "       [1.34044675e-12, 1.00000000e+00],\n",
       "       [1.30569772e-17, 1.00000000e+00],\n",
       "       [1.19003520e-09, 9.99999999e-01],\n",
       "       [9.01601838e-09, 9.99999991e-01],\n",
       "       [1.72933458e-16, 1.00000000e+00],\n",
       "       [5.14262964e-14, 1.00000000e+00],\n",
       "       [8.50335426e-17, 1.00000000e+00],\n",
       "       [3.09608827e-14, 1.00000000e+00],\n",
       "       [4.16043804e-13, 1.00000000e+00],\n",
       "       [1.09907510e-17, 1.00000000e+00],\n",
       "       [4.54453679e-14, 1.00000000e+00],\n",
       "       [9.08559317e-06, 9.99990914e-01],\n",
       "       [3.45909451e-18, 1.00000000e+00],\n",
       "       [3.94569125e-08, 9.99999961e-01],\n",
       "       [2.44371879e-12, 1.00000000e+00],\n",
       "       [1.54640372e-15, 1.00000000e+00],\n",
       "       [2.18456327e-15, 1.00000000e+00],\n",
       "       [4.57737291e-18, 1.00000000e+00],\n",
       "       [6.58591721e-13, 1.00000000e+00],\n",
       "       [1.62662404e-08, 9.99999984e-01],\n",
       "       [2.79646131e-14, 1.00000000e+00],\n",
       "       [1.55837806e-16, 1.00000000e+00],\n",
       "       [1.72451186e-08, 9.99999983e-01],\n",
       "       [7.97373608e-11, 1.00000000e+00],\n",
       "       [8.07667986e-17, 1.00000000e+00],\n",
       "       [1.66881948e-14, 1.00000000e+00],\n",
       "       [2.94544633e-06, 9.99997055e-01],\n",
       "       [6.61733978e-16, 1.00000000e+00],\n",
       "       [5.37342883e-17, 1.00000000e+00],\n",
       "       [1.80518004e-16, 1.00000000e+00],\n",
       "       [2.02222156e-14, 1.00000000e+00],\n",
       "       [5.68713730e-13, 1.00000000e+00],\n",
       "       [3.46328855e-15, 1.00000000e+00],\n",
       "       [3.16185144e-15, 1.00000000e+00],\n",
       "       [8.72872312e-14, 1.00000000e+00],\n",
       "       [8.24504966e-18, 1.00000000e+00],\n",
       "       [2.72673421e-18, 1.00000000e+00],\n",
       "       [6.85099330e-10, 9.99999999e-01],\n",
       "       [1.23237012e-18, 1.00000000e+00],\n",
       "       [4.68873851e-14, 1.00000000e+00],\n",
       "       [1.16085863e-13, 1.00000000e+00],\n",
       "       [2.27944888e-13, 1.00000000e+00],\n",
       "       [1.71836142e-13, 1.00000000e+00],\n",
       "       [5.47438181e-17, 1.00000000e+00],\n",
       "       [1.78606329e-13, 1.00000000e+00],\n",
       "       [8.35723464e-17, 1.00000000e+00],\n",
       "       [4.36661786e-13, 1.00000000e+00],\n",
       "       [3.94757939e-17, 1.00000000e+00],\n",
       "       [1.00000000e+00, 5.95280588e-12],\n",
       "       [1.48352976e-08, 9.99999985e-01],\n",
       "       [8.76964246e-15, 1.00000000e+00],\n",
       "       [3.54153679e-16, 1.00000000e+00],\n",
       "       [8.16089608e-17, 1.00000000e+00],\n",
       "       [1.46767654e-15, 1.00000000e+00],\n",
       "       [8.69994370e-19, 1.00000000e+00],\n",
       "       [8.09105221e-12, 1.00000000e+00],\n",
       "       [1.87340875e-17, 1.00000000e+00],\n",
       "       [1.72280656e-14, 1.00000000e+00],\n",
       "       [4.41131120e-17, 1.00000000e+00],\n",
       "       [6.79184228e-17, 1.00000000e+00],\n",
       "       [3.33532590e-16, 1.00000000e+00],\n",
       "       [3.94966705e-16, 1.00000000e+00],\n",
       "       [5.08866571e-18, 1.00000000e+00],\n",
       "       [4.71275653e-16, 1.00000000e+00],\n",
       "       [2.55910671e-15, 1.00000000e+00],\n",
       "       [2.45951753e-16, 1.00000000e+00],\n",
       "       [6.20807335e-12, 1.00000000e+00],\n",
       "       [1.19724608e-15, 1.00000000e+00],\n",
       "       [4.35456311e-18, 1.00000000e+00],\n",
       "       [1.03190299e-17, 1.00000000e+00],\n",
       "       [5.54702341e-17, 1.00000000e+00],\n",
       "       [3.08425926e-18, 1.00000000e+00],\n",
       "       [1.42236086e-08, 9.99999986e-01],\n",
       "       [1.05095476e-16, 1.00000000e+00],\n",
       "       [1.89862545e-16, 1.00000000e+00],\n",
       "       [3.66635917e-15, 1.00000000e+00],\n",
       "       [1.01314054e-16, 1.00000000e+00],\n",
       "       [2.75453031e-16, 1.00000000e+00],\n",
       "       [3.18557809e-14, 1.00000000e+00],\n",
       "       [1.44006597e-17, 1.00000000e+00],\n",
       "       [2.49223233e-12, 1.00000000e+00],\n",
       "       [1.80736815e-17, 1.00000000e+00],\n",
       "       [3.05995822e-18, 1.00000000e+00],\n",
       "       [2.00420442e-16, 1.00000000e+00],\n",
       "       [7.42364420e-16, 1.00000000e+00],\n",
       "       [1.37851955e-17, 1.00000000e+00],\n",
       "       [2.71646833e-07, 9.99999728e-01],\n",
       "       [9.86361240e-15, 1.00000000e+00],\n",
       "       [3.26348940e-16, 1.00000000e+00],\n",
       "       [6.56600046e-17, 1.00000000e+00],\n",
       "       [3.13749185e-18, 1.00000000e+00],\n",
       "       [1.29164753e-16, 1.00000000e+00],\n",
       "       [3.81787945e-09, 9.99999996e-01],\n",
       "       [2.80786590e-17, 1.00000000e+00],\n",
       "       [1.56860889e-16, 1.00000000e+00],\n",
       "       [1.69890267e-17, 1.00000000e+00],\n",
       "       [1.31240072e-16, 1.00000000e+00],\n",
       "       [2.88136464e-13, 1.00000000e+00],\n",
       "       [2.69550069e-12, 1.00000000e+00],\n",
       "       [2.62993737e-14, 1.00000000e+00],\n",
       "       [6.70150196e-14, 1.00000000e+00],\n",
       "       [2.02423587e-15, 1.00000000e+00],\n",
       "       [1.53669324e-16, 1.00000000e+00],\n",
       "       [2.11317844e-14, 1.00000000e+00],\n",
       "       [1.90521137e-15, 1.00000000e+00],\n",
       "       [1.41615276e-03, 9.98583847e-01],\n",
       "       [1.21696853e-14, 1.00000000e+00],\n",
       "       [4.87185414e-15, 1.00000000e+00],\n",
       "       [1.79245785e-11, 1.00000000e+00],\n",
       "       [4.75670079e-14, 1.00000000e+00],\n",
       "       [4.12928279e-06, 9.99995871e-01],\n",
       "       [5.06543742e-08, 9.99999949e-01],\n",
       "       [5.62769592e-13, 1.00000000e+00],\n",
       "       [9.88404534e-13, 1.00000000e+00],\n",
       "       [1.55475957e-15, 1.00000000e+00],\n",
       "       [4.61969597e-17, 1.00000000e+00],\n",
       "       [3.23056086e-13, 1.00000000e+00],\n",
       "       [2.31730321e-13, 1.00000000e+00],\n",
       "       [2.05198481e-14, 1.00000000e+00],\n",
       "       [1.09476858e-15, 1.00000000e+00],\n",
       "       [3.06884507e-14, 1.00000000e+00],\n",
       "       [5.01273663e-15, 1.00000000e+00],\n",
       "       [1.67607779e-18, 1.00000000e+00],\n",
       "       [3.95006843e-16, 1.00000000e+00],\n",
       "       [9.80329376e-16, 1.00000000e+00],\n",
       "       [1.97833202e-13, 1.00000000e+00],\n",
       "       [1.95796136e-11, 1.00000000e+00],\n",
       "       [4.06222592e-14, 1.00000000e+00],\n",
       "       [1.80121446e-17, 1.00000000e+00],\n",
       "       [2.29516703e-16, 1.00000000e+00],\n",
       "       [2.63378960e-17, 1.00000000e+00],\n",
       "       [2.48277152e-14, 1.00000000e+00],\n",
       "       [1.07866452e-14, 1.00000000e+00],\n",
       "       [9.07743110e-17, 1.00000000e+00],\n",
       "       [7.21069228e-16, 1.00000000e+00],\n",
       "       [2.34657368e-06, 9.99997653e-01],\n",
       "       [1.00072185e-11, 1.00000000e+00],\n",
       "       [6.14752552e-15, 1.00000000e+00],\n",
       "       [1.01434802e-15, 1.00000000e+00],\n",
       "       [6.49993672e-17, 1.00000000e+00],\n",
       "       [5.55108112e-16, 1.00000000e+00],\n",
       "       [2.30256551e-06, 9.99997697e-01],\n",
       "       [9.26046730e-16, 1.00000000e+00],\n",
       "       [1.15534373e-16, 1.00000000e+00],\n",
       "       [5.62611728e-17, 1.00000000e+00],\n",
       "       [3.92704857e-17, 1.00000000e+00],\n",
       "       [1.25849294e-15, 1.00000000e+00],\n",
       "       [9.56450019e-01, 4.35499813e-02],\n",
       "       [5.33293047e-16, 1.00000000e+00],\n",
       "       [1.33199400e-10, 1.00000000e+00],\n",
       "       [1.93274270e-09, 9.99999998e-01],\n",
       "       [2.02394164e-17, 1.00000000e+00],\n",
       "       [1.18894856e-15, 1.00000000e+00],\n",
       "       [6.94391906e-16, 1.00000000e+00],\n",
       "       [1.08707690e-17, 1.00000000e+00],\n",
       "       [1.45371966e-16, 1.00000000e+00],\n",
       "       [1.29313363e-14, 1.00000000e+00],\n",
       "       [9.79594991e-12, 1.00000000e+00],\n",
       "       [1.84162933e-14, 1.00000000e+00],\n",
       "       [3.26363177e-12, 1.00000000e+00],\n",
       "       [9.74551661e-13, 1.00000000e+00],\n",
       "       [1.72253536e-14, 1.00000000e+00],\n",
       "       [3.50239480e-12, 1.00000000e+00],\n",
       "       [1.75397478e-14, 1.00000000e+00],\n",
       "       [4.51734164e-18, 1.00000000e+00],\n",
       "       [8.92087559e-15, 1.00000000e+00],\n",
       "       [2.58045081e-10, 1.00000000e+00],\n",
       "       [6.48964975e-09, 9.99999994e-01],\n",
       "       [7.20350558e-14, 1.00000000e+00],\n",
       "       [1.66348570e-14, 1.00000000e+00],\n",
       "       [5.86199583e-12, 1.00000000e+00],\n",
       "       [4.88784692e-15, 1.00000000e+00],\n",
       "       [1.06192510e-11, 1.00000000e+00],\n",
       "       [6.35504959e-14, 1.00000000e+00],\n",
       "       [6.34567550e-14, 1.00000000e+00],\n",
       "       [1.11074247e-14, 1.00000000e+00],\n",
       "       [4.87915800e-16, 1.00000000e+00],\n",
       "       [1.51797695e-11, 1.00000000e+00],\n",
       "       [2.51361872e-16, 1.00000000e+00],\n",
       "       [4.61501917e-14, 1.00000000e+00],\n",
       "       [1.18813670e-04, 9.99881186e-01],\n",
       "       [2.27428262e-10, 1.00000000e+00],\n",
       "       [9.00852229e-18, 1.00000000e+00],\n",
       "       [3.81895911e-12, 1.00000000e+00],\n",
       "       [1.11014088e-16, 1.00000000e+00],\n",
       "       [1.24574897e-09, 9.99999999e-01],\n",
       "       [6.87140008e-09, 9.99999993e-01],\n",
       "       [6.84273689e-15, 1.00000000e+00],\n",
       "       [2.91128519e-15, 1.00000000e+00],\n",
       "       [5.45516971e-14, 1.00000000e+00],\n",
       "       [3.32100639e-08, 9.99999967e-01],\n",
       "       [1.37918850e-13, 1.00000000e+00],\n",
       "       [1.68946906e-16, 1.00000000e+00],\n",
       "       [6.61836337e-16, 1.00000000e+00],\n",
       "       [1.05392978e-11, 1.00000000e+00],\n",
       "       [2.98178301e-13, 1.00000000e+00],\n",
       "       [7.71707297e-14, 1.00000000e+00],\n",
       "       [3.34404987e-06, 9.99996656e-01],\n",
       "       [3.18331782e-05, 9.99968167e-01],\n",
       "       [1.37774420e-10, 1.00000000e+00],\n",
       "       [9.61126108e-16, 1.00000000e+00],\n",
       "       [4.86330004e-15, 1.00000000e+00],\n",
       "       [9.99999832e-01, 1.68335660e-07],\n",
       "       [8.40177911e-18, 1.00000000e+00],\n",
       "       [1.87927966e-14, 1.00000000e+00],\n",
       "       [3.32775850e-10, 1.00000000e+00],\n",
       "       [4.09303460e-12, 1.00000000e+00],\n",
       "       [1.30618986e-14, 1.00000000e+00],\n",
       "       [5.88605617e-08, 9.99999941e-01],\n",
       "       [2.06215622e-15, 1.00000000e+00],\n",
       "       [3.84675235e-13, 1.00000000e+00],\n",
       "       [1.58401116e-13, 1.00000000e+00],\n",
       "       [4.95409086e-14, 1.00000000e+00],\n",
       "       [1.93093811e-16, 1.00000000e+00],\n",
       "       [9.02808609e-07, 9.99999097e-01],\n",
       "       [5.82325093e-16, 1.00000000e+00],\n",
       "       [9.53701535e-13, 1.00000000e+00],\n",
       "       [5.44601402e-09, 9.99999995e-01],\n",
       "       [1.14699492e-16, 1.00000000e+00],\n",
       "       [6.29612172e-11, 1.00000000e+00],\n",
       "       [3.69272036e-14, 1.00000000e+00],\n",
       "       [1.28683740e-16, 1.00000000e+00],\n",
       "       [5.02983539e-17, 1.00000000e+00],\n",
       "       [5.94224659e-12, 1.00000000e+00],\n",
       "       [1.19178096e-17, 1.00000000e+00],\n",
       "       [1.47197006e-16, 1.00000000e+00],\n",
       "       [1.95219983e-11, 1.00000000e+00],\n",
       "       [1.34013859e-15, 1.00000000e+00],\n",
       "       [1.56501654e-08, 9.99999984e-01],\n",
       "       [3.83370145e-17, 1.00000000e+00],\n",
       "       [4.54037019e-14, 1.00000000e+00],\n",
       "       [1.05755039e-14, 1.00000000e+00],\n",
       "       [1.12391322e-13, 1.00000000e+00],\n",
       "       [1.13842018e-15, 1.00000000e+00],\n",
       "       [1.75598458e-13, 1.00000000e+00],\n",
       "       [9.65497876e-16, 1.00000000e+00],\n",
       "       [1.50880826e-12, 1.00000000e+00],\n",
       "       [7.45973818e-17, 1.00000000e+00],\n",
       "       [9.70043085e-06, 9.99990300e-01],\n",
       "       [4.07544498e-09, 9.99999996e-01],\n",
       "       [2.49482864e-13, 1.00000000e+00],\n",
       "       [4.79396169e-13, 1.00000000e+00],\n",
       "       [1.55503718e-12, 1.00000000e+00],\n",
       "       [2.55321605e-18, 1.00000000e+00],\n",
       "       [2.87382270e-16, 1.00000000e+00],\n",
       "       [9.28551531e-18, 1.00000000e+00],\n",
       "       [1.36773226e-13, 1.00000000e+00],\n",
       "       [6.89742617e-18, 1.00000000e+00],\n",
       "       [3.82581936e-16, 1.00000000e+00],\n",
       "       [2.30130020e-14, 1.00000000e+00],\n",
       "       [2.42271110e-17, 1.00000000e+00],\n",
       "       [2.14402990e-13, 1.00000000e+00],\n",
       "       [1.91345976e-15, 1.00000000e+00],\n",
       "       [3.12369289e-18, 1.00000000e+00],\n",
       "       [1.34227052e-14, 1.00000000e+00],\n",
       "       [2.36421091e-08, 9.99999976e-01],\n",
       "       [5.57293323e-14, 1.00000000e+00],\n",
       "       [4.72113957e-10, 1.00000000e+00],\n",
       "       [1.13387778e-17, 1.00000000e+00],\n",
       "       [5.16774721e-16, 1.00000000e+00]])"
      ]
     },
     "execution_count": 11,
     "metadata": {},
     "output_type": "execute_result"
    }
   ],
   "source": [
    "gm.predict_proba(B)"
   ]
  },
  {
   "cell_type": "markdown",
   "metadata": {},
   "source": [
    "This might be shown using `plot_mixture_distplot`, which plots each component belonging density."
   ]
  },
  {
   "cell_type": "code",
   "execution_count": 12,
   "metadata": {},
   "outputs": [
    {
     "data": {
      "image/png": "[encoded data removed]",
      "text/plain": [
       "<Figure size 1440x360 with 2 Axes>"
      ]
     },
     "metadata": {},
     "output_type": "display_data"
    }
   ],
   "source": [
    "plot_mixture_distplot([gm.predict_proba(B), gm.predict_proba(M)], [\"Benign\", \"Malign\"], [\"blue\",\"green\"], \n",
    "                      n_components = n_classes)"
   ]
  },
  {
   "cell_type": "markdown",
   "metadata": {},
   "source": [
    "# Reduced example"
   ]
  },
  {
   "cell_type": "markdown",
   "metadata": {},
   "source": [
    "The same procedure is now done under a lower dimensional representation of the data. A Variational auto-encoder is used."
   ]
  },
  {
   "cell_type": "code",
   "execution_count": 13,
   "metadata": {},
   "outputs": [
    {
     "name": "stdout",
     "output_type": "stream",
     "text": [
      "\n",
      " 0 epochs\t 478404832.0....................\n",
      " 200 epochs\t 3773113.0....................\n",
      " 400 epochs\t 2028672.875....................\n",
      " 600 epochs\t 1728342.5....................\n",
      " 800 epochs\t 1066897.25....................\n",
      " 1000 epochs\t 852392.4375....................\n",
      " 1200 epochs\t 791312.75....................\n",
      " 1400 epochs\t 610827.5625....................\n",
      " 1600 epochs\t 513208.125....................\n",
      " 1800 epochs\t 457930.5625....................\n",
      " 2000 epochs\t 385194.5625....................\n",
      " 2200 epochs\t 359299.375....................\n",
      " 2400 epochs\t 314355.78125....................\n",
      " 2600 epochs\t 284485.53125....................\n",
      " 2800 epochs\t 273402.625....................\n",
      " 3000 epochs\t 245136.859375....................\n",
      " 3200 epochs\t 238985.0....................\n",
      " 3400 epochs\t 210128.953125....................\n",
      " 3600 epochs\t 218002.328125....................\n",
      " 3800 epochs\t 196275.984375...................."
     ]
    }
   ],
   "source": [
    "vae_model = vae(h_dim, 100, data_dim)\n",
    "q_vae = Q_vae(h_dim, 100, data_dim)\n",
    "\n",
    "optimizer = tf.train.AdamOptimizer(0.01)\n",
    "VI_vae = inf.inference.VI(q_vae, optimizer=optimizer, epochs=4000)\n",
    "vae_model.fit({\"x\": X}, VI_vae)\n",
    "\n",
    "# Draw a posterior sample as datapoints.\n",
    "data = vae_model.posterior(\"z\", data={\"x\": X}).sample()"
   ]
  },
  {
   "cell_type": "markdown",
   "metadata": {},
   "source": [
    "We are now able to plot the data we are trying to fit into two Gaussian distributions."
   ]
  },
  {
   "cell_type": "code",
   "execution_count": 14,
   "metadata": {},
   "outputs": [
    {
     "data": {
      "image/png": "[encoded data removed]",
      "text/plain": [
       "<Figure size 605.925x540 with 12 Axes>"
      ]
     },
     "metadata": {},
     "output_type": "display_data"
    }
   ],
   "source": [
    "print_posterior(data, y)"
   ]
  },
  {
   "cell_type": "markdown",
   "metadata": {},
   "source": [
    "Define and train the mixture model."
   ]
  },
  {
   "cell_type": "code",
   "execution_count": 15,
   "metadata": {},
   "outputs": [
    {
     "data": {
      "text/plain": [
       "BayesianGaussianMixture(covariance_prior=array([1., 1., 1.]),\n",
       "                        covariance_type='diag', degrees_of_freedom_prior=3,\n",
       "                        max_iter=1000, mean_precision_prior=1,\n",
       "                        mean_prior=array([0., 0., 0.]), n_components=2,\n",
       "                        random_state=0, weight_concentration_prior=0.5,\n",
       "                        weight_concentration_prior_type='dirichlet_distribution')"
      ]
     },
     "execution_count": 15,
     "metadata": {},
     "output_type": "execute_result"
    }
   ],
   "source": [
    "gm = gm_model(n_classes, h_dim)\n",
    "gm.fit(data)"
   ]
  },
  {
   "cell_type": "markdown",
   "metadata": {},
   "source": [
    "The learned mean values can be shown. One may notice that the first component seeks to model the malign points and the second the benign ones."
   ]
  },
  {
   "cell_type": "code",
   "execution_count": 16,
   "metadata": {},
   "outputs": [
    {
     "data": {
      "text/plain": [
       "array([[ 18.54473569, -13.06291303, -16.50051048],\n",
       "       [  9.58474115,  -1.32168154,  -5.2354198 ]])"
      ]
     },
     "execution_count": 16,
     "metadata": {},
     "output_type": "execute_result"
    }
   ],
   "source": [
    "gm.means_"
   ]
  },
  {
   "cell_type": "markdown",
   "metadata": {},
   "source": [
    "The same component distribution density is ploted, showing very similar results compared to the original dataset."
   ]
  },
  {
   "cell_type": "code",
   "execution_count": 17,
   "metadata": {},
   "outputs": [],
   "source": [
    "(B, M) = separate_in_classes(data,y)"
   ]
  },
  {
   "cell_type": "code",
   "execution_count": 18,
   "metadata": {},
   "outputs": [
    {
     "data": {
      "image/png": "[encoded data removed]",
      "text/plain": [
       "<Figure size 1440x360 with 2 Axes>"
      ]
     },
     "metadata": {},
     "output_type": "display_data"
    }
   ],
   "source": [
    "plot_mixture_distplot([gm.predict_proba(B), gm.predict_proba(M)], [\"Benign\", \"Malign\"], [\"blue\",\"green\"], \n",
    "                      n_components = n_classes)"
   ]
  }
 ],
 "metadata": {
  "kernelspec": {
   "display_name": "TFG py3.6",
   "language": "python",
   "name": "tfg-py36"
  },
  "language_info": {
   "codemirror_mode": {
    "name": "ipython",
    "version": 3
   },
   "file_extension": ".py",
   "mimetype": "text/x-python",
   "name": "python",
   "nbconvert_exporter": "python",
   "pygments_lexer": "ipython3",
   "version": "3.6.9"
  },
  "toc": {
   "base_numbering": 1,
   "nav_menu": {},
   "number_sections": true,
   "sideBar": true,
   "skip_h1_title": false,
   "title_cell": "Table of Contents",
   "title_sidebar": "Contents",
   "toc_cell": false,
   "toc_position": {},
   "toc_section_display": true,
   "toc_window_display": true
  }
 },
 "nbformat": 4,
 "nbformat_minor": 4
}
